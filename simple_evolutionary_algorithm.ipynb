{
 "cells": [
  {
   "cell_type": "code",
   "execution_count": 11,
   "metadata": {},
   "outputs": [],
   "source": [
    "import math\n",
    "import numpy as np\n",
    "import pandas as pd\n",
    "from decimal import Decimal\n",
    "import matplotlib.pyplot as plt"
   ]
  },
  {
   "cell_type": "code",
   "execution_count": 12,
   "metadata": {},
   "outputs": [],
   "source": [
    "def f(x,y):\n",
    "    return 418.9829*2 - x*np.sin(np.sqrt(abs(x))) - y*np.sin(np.sqrt(abs(y)))"
   ]
  },
  {
   "cell_type": "code",
   "execution_count": 50,
   "metadata": {},
   "outputs": [
    {
     "data": {
      "text/plain": [
       "2"
      ]
     },
     "execution_count": 50,
     "metadata": {},
     "output_type": "execute_result"
    }
   ],
   "source": [
    "f.__code__.co_argcount"
   ]
  },
  {
   "cell_type": "code",
   "execution_count": 94,
   "metadata": {},
   "outputs": [],
   "source": [
    "class Gen:\n",
    "    def __init__(self,dominio,precision):\n",
    "        \"\"\"\n",
    "        Parameters\n",
    "        ----------\n",
    "        dominio : tuple\n",
    "            Límites (liminf, limsup) de la variable en cuestión.\n",
    "        precision : int\n",
    "            Número de cifras decimales luego del punto para la variable en cuestión.\n",
    "        \"\"\"       \n",
    "        self.dominio = dominio\n",
    "        self.precision = precision\n",
    "        self.len = self._length()\n",
    "\n",
    "    def _length(self):\n",
    "        \"\"\"Calcula el número de bits en un gen.\n",
    "\n",
    "        Returns\n",
    "        -------\n",
    "        int\n",
    "            Número de bits del gen <-> variable.\n",
    "        \"\"\"\n",
    "        # Limites\n",
    "        rango = self.dominio[1] - self.dominio[0]\n",
    "        cell_count = math.ceil(np.log2(rango))\n",
    "\n",
    "        # Decimales\n",
    "        cell_count += math.ceil(np.log2(10**self.precision - 1))\n",
    "        return cell_count\n",
    "    \n",
    "    def translate(self,x,mode='decode'):\n",
    "        '''\n",
    "        Traductor para codificar/decodificar (reales <-> binario) genes. \n",
    "\n",
    "        Parameters\n",
    "        ----------\n",
    "        x : float or str\n",
    "            Gen a traducir (float si es un real, str si es binario).\n",
    "        mode : str (code,decode)\n",
    "            Uno de dos modos: 'code' para pasar de número real a binario, y 'decode' para pasar de binario a real.\n",
    "\n",
    "        Returns\n",
    "        -------\n",
    "        str or float\n",
    "            Gen traducido (str si x era un real, float si x era binario).\n",
    "        '''\n",
    "        liminf = self.dominio[0]\n",
    "        liminf = Decimal(str(liminf))\n",
    "\n",
    "        if mode == 'code':\n",
    "            ## Real -> Binario\n",
    "            \n",
    "            # Cortar decimales por redondeo\n",
    "            x = float(x) # failsafe\n",
    "            x = round(x,self.precision)\n",
    "\n",
    "            # Offset - Signo -> rango>=0\n",
    "            x = Decimal(str(x))\n",
    "            x += abs(liminf)\n",
    "            \n",
    "            # Eliminar punto\n",
    "            x_int,x_dec = str(x).split(\".\")\n",
    "            x_dec = x_dec.ljust(self.precision,\"0\") # fill precision\n",
    "\n",
    "            # Representación entera\n",
    "            x_r = int(x_int + x_dec)\n",
    "            return np.binary_repr(x_r, width=self.len)\n",
    "        \n",
    "        elif mode == 'decode':\n",
    "            ## Binario -> Real\n",
    "\n",
    "            # Convierte a entero base 10\n",
    "            x = str(int(x,2))\n",
    "\n",
    "            # Añadir el punto decimal\n",
    "            int_part = x[:-self.precision]\n",
    "            dec_part = x[-self.precision:]\n",
    "            x_float = Decimal(int_part + '.' + dec_part)\n",
    "\n",
    "            # Extraer offset\n",
    "            x_float -= abs(liminf)\n",
    "            return float(x_float)"
   ]
  },
  {
   "cell_type": "code",
   "execution_count": 105,
   "metadata": {},
   "outputs": [],
   "source": [
    "class Cromosoma:\n",
    "    def __init__(self,genes):\n",
    "        \"\"\"\n",
    "        Parameters\n",
    "        ----------\n",
    "        genes : lsit,tuple\n",
    "            Genes del cromosoma ordenados.\n",
    "        \"\"\"       \n",
    "        self.genes = genes\n",
    "\n",
    "    def representacion(self,x,mode):\n",
    "        '''\n",
    "        Traductor para codificar/decodificar (reales <-> binario) cromosomas a través de sus genes.\n",
    "\n",
    "        Parameters\n",
    "        ----------\n",
    "        x : list o str\n",
    "            Expresión del cromosoma (lista si los genes se expresan en números reales, str si el cromosoma es binario)\n",
    "        mode : str (code,decode)\n",
    "            Uno de dos modos: 'code' para pasar de número real a binario, y 'decode' para pasar de binario a real.\n",
    "\n",
    "        Returns\n",
    "        -------\n",
    "        str o list\n",
    "            Cromosoma traducido (elementos tipo str si \"genes\" era una lista, lista si \"genes\" era binario).\n",
    "        '''\n",
    "        \n",
    "        # liminf = self.dominio[0]\n",
    "        # liminf = Decimal(str(liminf))\n",
    "\n",
    "        if mode == 'code':\n",
    "            ## Real -> Binario\n",
    "            genes_bin = [gen.translate(val, mode=mode) for val,gen in zip(x,self.genes)]\n",
    "            self.cromosoma = ''.join(genes_bin)\n",
    "            return self.cromosoma\n",
    "        \n",
    "        elif mode == 'decode':\n",
    "            ## Binario -> Real\n",
    "            genes_lens = [gen.len for gen in self.genes]\n",
    "            ind_final = np.cumsum(genes_lens)\n",
    "            genes_r = [gen.translate(x[ind-lens:ind]) for gen, lens, ind in zip(self.genes, genes_lens, ind_final)]\n",
    "            return genes_r"
   ]
  },
  {
   "cell_type": "code",
   "execution_count": 106,
   "metadata": {},
   "outputs": [],
   "source": [
    "Gen1 = Gen((-500,500),3)\n",
    "Gen2 = Gen((-500,500),6)\n",
    "cromo1 = Cromosoma(genes=[Gen1,Gen2])"
   ]
  },
  {
   "cell_type": "code",
   "execution_count": 124,
   "metadata": {},
   "outputs": [
    {
     "name": "stdout",
     "output_type": "stream",
     "text": [
      "-301.177\n",
      "-500.0\n",
      "[-301.177, -500.0]\n"
     ]
    }
   ],
   "source": [
    "bin1 = cromo1.representacion(x=[-301.177, -500.0], mode='code')\n",
    "print(Gen1.translate(bin1[:Gen1.len]))\n",
    "print(Gen2.translate(bin1[-Gen2.len:]))\n",
    "print(cromo1.representacion(bin1, mode='decode'))"
   ]
  },
  {
   "cell_type": "code",
   "execution_count": null,
   "metadata": {},
   "outputs": [],
   "source": []
  },
  {
   "cell_type": "code",
   "execution_count": 56,
   "metadata": {},
   "outputs": [],
   "source": [
    "class SimpleEvolutionary:\n",
    "    # Constructor\n",
    "    def __init__(self,f,dominios,precisiones):\n",
    "        \"\"\"\n",
    "        Parameters\n",
    "        ----------\n",
    "        f : function\n",
    "            Función a optimizar por el algoritmo.\n",
    "        dominios : tuple, list\n",
    "            Iterable que contiene tuplas (liminf, limsup) de los dominios de las variables para la función \"f\".\n",
    "        precisiones : tuple, list\n",
    "            Iterable que contiene el número (int) de cifras decimales luego del punto para cada variable.\n",
    "        \"\"\"\n",
    "        self.f = f\n",
    "        self.dominios = dominios\n",
    "        self.precisiones = precisiones\n",
    "\n",
    "        # Lóngitudes de genes y cromosoma\n",
    "        self.gen_lens = [self.gen_length(dom,prc) for dom,prc in zip(dominios,precisiones)]\n",
    "        self.chrom_len = sum(self.gen_lens)\n",
    "    \n",
    "    ########################\n",
    "    #### REPRESENTACIÓN ####\n",
    "    def gen_length(self,dominio,precision):\n",
    "        \"\"\"Calcula el número de bits en un gen.\n",
    "\n",
    "        Parameters\n",
    "        ----------\n",
    "        dominio : tuple\n",
    "            Límites (liminf, limsup) de la variable en cuestión.\n",
    "        precision : int\n",
    "            Número de cifras decimales luego del punto para la variable en cuestión.\n",
    "\n",
    "        Returns\n",
    "        -------\n",
    "        int\n",
    "            Número de bits del gen <-> variable.\n",
    "        \"\"\"\n",
    "        # Limites\n",
    "        rango = dominio[1] - dominio[0]\n",
    "        cell_count = math.ceil(np.log2(rango))\n",
    "\n",
    "        # Decimales\n",
    "        cell_count += math.ceil(np.log2(10**precision - 1))\n",
    "        return cell_count\n",
    "    \n",
    "    def gen_translate(self,x,locus,mode='decode'):\n",
    "        '''\n",
    "        Traductor para codificar/decodificar (reales <-> binario) cromosomas. \n",
    "\n",
    "        Parameters\n",
    "        ----------\n",
    "        x : float or str\n",
    "            Gen a traducir (float si es un real, str si es binario).\n",
    "        locus : int\n",
    "            Número de gen en el cromosoma al que pertenece.\n",
    "        mode : str (code,decode)\n",
    "            Uno de dos modos: 'code' para pasar de número real a binario, y 'decode' para pasar de binario a real.\n",
    "\n",
    "        Returns\n",
    "        -------\n",
    "        str or float\n",
    "            Gen traducido (str si x era un real, float si x era binario).\n",
    "        '''\n",
    "\n",
    "        if mode == 'code':\n",
    "            ## Real -> Binario\n",
    "\n",
    "            x = Decimal(str(x))\n",
    "            liminf = self.dominios[locus][0]\n",
    "            liminf = Decimal(str(liminf))\n",
    "            # Signo -> trasladar a rango>=0\n",
    "            x += abs(liminf)\n",
    "            # Eliminar punto\n",
    "            x_int = str(x).replace(\".\",\"\")\n",
    "            return np.binary_repr(x_int, width=self.chrom_len)\n",
    "        \n",
    "        elif mode == 'decode':\n",
    "            ## Binario -> Real\n",
    "\n",
    "            # Convierte a entero base 10\n",
    "            x = str(int(x,2))\n",
    "            # Añadir el punto decimal\n",
    "            int_part = x[:-self.precision[locus]]\n",
    "            dec_part = x[self.precision[locus]:]\n",
    "            return float(int_part + '.' + dec_part)"
   ]
  },
  {
   "cell_type": "code",
   "execution_count": 102,
   "metadata": {},
   "outputs": [
    {
     "data": {
      "text/plain": [
       "'486.1345678'"
      ]
     },
     "execution_count": 102,
     "metadata": {},
     "output_type": "execute_result"
    }
   ],
   "source": [
    "x = 486.1345678\n",
    "str(Decimal(str(x)))"
   ]
  },
  {
   "cell_type": "code",
   "execution_count": 103,
   "metadata": {},
   "outputs": [
    {
     "name": "stdout",
     "output_type": "stream",
     "text": [
      "-486.1345678\n",
      "-500\n",
      "13.8654322\n",
      "138654322\n"
     ]
    },
    {
     "data": {
      "text/plain": [
       "'1000010000111011001001110010'"
      ]
     },
     "execution_count": 103,
     "metadata": {},
     "output_type": "execute_result"
    }
   ],
   "source": [
    "x = -486.1345678\n",
    "x = Decimal(str(x))\n",
    "print(x)\n",
    "liminf = -500\n",
    "liminf = Decimal(str(liminf))\n",
    "print(liminf)\n",
    "# Signo -> trasladar a rango>=0\n",
    "x += abs(liminf)\n",
    "print(x)\n",
    "# Eliminar punto\n",
    "x_int = int(str(x).replace(\".\",\"\"))\n",
    "print(x_int)\n",
    "np.binary_repr(x_int)"
   ]
  },
  {
   "cell_type": "code",
   "execution_count": 92,
   "metadata": {},
   "outputs": [
    {
     "data": {
      "text/plain": [
       "98613478"
      ]
     },
     "execution_count": 92,
     "metadata": {},
     "output_type": "execute_result"
    }
   ],
   "source": [
    "int(np.binary_repr(x_int),2)"
   ]
  },
  {
   "cell_type": "code",
   "execution_count": 87,
   "metadata": {},
   "outputs": [
    {
     "data": {
      "text/plain": [
       "'abcd'"
      ]
     },
     "execution_count": 87,
     "metadata": {},
     "output_type": "execute_result"
    }
   ],
   "source": [
    "\n",
    "presicion = 3\n",
    "\n",
    "x = str(int(x,2))\n",
    "\n",
    "\n",
    "# Añadir el punto decimal\n",
    "int_part = x[:-self.precision[locus]]\n",
    "dec_part = x[self.precision[locus]:]\n",
    "return float(int_part + '.' + dec_part)"
   ]
  },
  {
   "cell_type": "code",
   "execution_count": 70,
   "metadata": {},
   "outputs": [
    {
     "data": {
      "text/plain": [
       "'312.009'"
      ]
     },
     "execution_count": 70,
     "metadata": {},
     "output_type": "execute_result"
    }
   ],
   "source": [
    "\".\".join(('312','009'))"
   ]
  },
  {
   "cell_type": "code",
   "execution_count": 94,
   "metadata": {},
   "outputs": [
    {
     "name": "stdout",
     "output_type": "stream",
     "text": [
      "-421.849878\n",
      "-500\n",
      "78.150122\n",
      "78150122\n"
     ]
    }
   ],
   "source": [
    "## Real -> Binario\n",
    "x = -421.849878\n",
    "x = Decimal(str(x))\n",
    "print(x)\n",
    "liminf = -500\n",
    "liminf = Decimal(str(liminf))\n",
    "print(liminf)\n",
    "# Signo -> trasladar a rango>=0\n",
    "x += abs(liminf)\n",
    "print(x)\n",
    "# Eliminar punto\n",
    "x_int = str(x).replace(\".\",\"\")\n",
    "print(x_int)\n",
    "# np.binary_repr(x_int, width=)"
   ]
  },
  {
   "cell_type": "markdown",
   "metadata": {},
   "source": [
    "### Representación: Transformando reales\n",
    "\n"
   ]
  },
  {
   "cell_type": "markdown",
   "metadata": {},
   "source": [
    "### Población: Generación aleatoria"
   ]
  },
  {
   "cell_type": "code",
   "execution_count": 5,
   "metadata": {},
   "outputs": [],
   "source": [
    "def aptitud(binary):\n",
    "    '''\n",
    "    Traduce las entradas binarias a entradas reales para ser evaluadas en la función objetivo \"f\".\n",
    "    '''\n"
   ]
  },
  {
   "cell_type": "code",
   "execution_count": null,
   "metadata": {},
   "outputs": [],
   "source": []
  }
 ],
 "metadata": {
  "kernelspec": {
   "display_name": "Python 3",
   "language": "python",
   "name": "python3"
  },
  "language_info": {
   "codemirror_mode": {
    "name": "ipython",
    "version": 3
   },
   "file_extension": ".py",
   "mimetype": "text/x-python",
   "name": "python",
   "nbconvert_exporter": "python",
   "pygments_lexer": "ipython3",
   "version": "3.11.5"
  }
 },
 "nbformat": 4,
 "nbformat_minor": 2
}
