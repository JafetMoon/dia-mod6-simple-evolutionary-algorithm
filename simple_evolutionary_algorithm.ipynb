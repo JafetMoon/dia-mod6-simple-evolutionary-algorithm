{
 "cells": [
  {
   "cell_type": "code",
   "execution_count": 1,
   "metadata": {},
   "outputs": [],
   "source": [
    "import math\n",
    "import numpy as np\n",
    "import pandas as pd\n",
    "from decimal import Decimal\n",
    "import matplotlib.pyplot as plt"
   ]
  },
  {
   "cell_type": "code",
   "execution_count": 2,
   "metadata": {},
   "outputs": [],
   "source": [
    "def f(x,y):\n",
    "    return 418.9829*2 - x*np.sin(np.sqrt(abs(x))) - y*np.sin(np.sqrt(abs(y)))"
   ]
  },
  {
   "cell_type": "code",
   "execution_count": 50,
   "metadata": {},
   "outputs": [
    {
     "data": {
      "text/plain": [
       "2"
      ]
     },
     "execution_count": 50,
     "metadata": {},
     "output_type": "execute_result"
    }
   ],
   "source": [
    "f.__code__.co_argcount"
   ]
  },
  {
   "cell_type": "markdown",
   "metadata": {},
   "source": [
    "### Estructura cromosómica"
   ]
  },
  {
   "cell_type": "code",
   "execution_count": 234,
   "metadata": {},
   "outputs": [
    {
     "name": "stdout",
     "output_type": "stream",
     "text": [
      "1\n",
      "2\n",
      "2\n",
      "3\n",
      "4\n"
     ]
    }
   ],
   "source": [
    "for x in '12234':\n",
    "    print(x)"
   ]
  },
  {
   "cell_type": "code",
   "execution_count": null,
   "metadata": {},
   "outputs": [],
   "source": [
    "np.binary_repr(142,)"
   ]
  },
  {
   "cell_type": "code",
   "execution_count": 235,
   "metadata": {},
   "outputs": [
    {
     "data": {
      "text/plain": [
       "[1, 0, 0, 0, 1, 1, 1, 0]"
      ]
     },
     "execution_count": 235,
     "metadata": {},
     "output_type": "execute_result"
    }
   ],
   "source": [
    "[int(d) for d in np.binary_repr(142)]"
   ]
  },
  {
   "cell_type": "code",
   "execution_count": null,
   "metadata": {},
   "outputs": [],
   "source": []
  },
  {
   "cell_type": "code",
   "execution_count": 191,
   "metadata": {},
   "outputs": [],
   "source": [
    "class Gen:\n",
    "    def __init__(self,dominio,precision):\n",
    "        \"\"\"\n",
    "        Parameters\n",
    "        ----------\n",
    "        dominio : tuple\n",
    "            Límites (liminf, limsup) de la variable en cuestión.\n",
    "        precision : int\n",
    "            Número de cifras decimales luego del punto para la variable en cuestión. Debe ser mayor al máximo número de decimales en el dominio\n",
    "        \"\"\"       \n",
    "        self.dominio = dominio\n",
    "        self.precision = precision\n",
    "        self.len = self._length()\n",
    "\n",
    "        # Offset lb -> all(0) ; ub -> all(1)\n",
    "        self.norm = (Decimal(str(dominio[1])) - Decimal(str(dominio[0]))) *10**precision / int('1'*self.len,2)\n",
    "        self.offset = Decimal(str(dominio[0])) * 10**precision\n",
    "\n",
    "    \n",
    "    def _length(self):\n",
    "        \"\"\"Calcula el número de bits en un gen.\n",
    "\n",
    "        Returns\n",
    "        -------\n",
    "        int\n",
    "            Número de bits del gen <-> variable.\n",
    "        \"\"\"\n",
    "        # Limites\n",
    "        rango = self.dominio[1] - self.dominio[0]\n",
    "        cell_count = math.ceil(np.log2(rango))\n",
    "\n",
    "        # Decimales\n",
    "        cell_count += math.ceil(np.log2(10**self.precision - 1))\n",
    "        return cell_count\n",
    "    \n",
    "    def translate(self,x,mode='decode'):\n",
    "        '''\n",
    "        Traductor para codificar/decodificar (reales <-> binario) genes. \n",
    "\n",
    "        Parameters\n",
    "        ----------\n",
    "        x : float or str\n",
    "            Gen a traducir (float si es un real, str si es binario).\n",
    "        mode : str (code,decode)\n",
    "            Uno de dos modos: 'code' para pasar de número real a binario, y 'decode' para pasar de binario a real.\n",
    "\n",
    "        Returns\n",
    "        -------\n",
    "        str or float\n",
    "            Gen traducido (str si x era un real, float si x era binario).\n",
    "        '''\n",
    "        \n",
    "        if mode == 'code':\n",
    "            ## Real -> Binario\n",
    "            \n",
    "            # Cortar decimales por redondeo\n",
    "            x = float(x) # failsafe\n",
    "            x = round(x,self.precision)\n",
    "\n",
    "            # Eliminar punto\n",
    "            x_int,x_dec = str(x).split(\".\")\n",
    "            x_dec = x_dec.ljust(self.precision,\"0\") # fill precision\n",
    "\n",
    "            # Representación entera\n",
    "            x_rep = int(x_int + x_dec)\n",
    "\n",
    "            # Offset -> ran >= 0\n",
    "            x_rep = (Decimal(str(x_rep)) - self.offset) / self.norm\n",
    "            x_rep = round(x_rep) # Nuevos decimales son de orden mayor a la precision\n",
    "            return np.binary_repr(x_rep, width=self.len)\n",
    "        \n",
    "        elif mode == 'decode':\n",
    "            ## Binario -> Real\n",
    "\n",
    "            # Convierte a entero base 10\n",
    "            x = int(x,2)\n",
    "\n",
    "            # Extraer Offset y Normalizar\n",
    "            x = x * self.norm + self.offset\n",
    "            x = str(round(x)) # Nuevos decimales son de orden mayor a la precision\n",
    "\n",
    "            # Añadir el punto decimal\n",
    "            int_part = x[:-self.precision]\n",
    "            dec_part = x[-self.precision:]\n",
    "            x_float = Decimal(int_part + '.' + dec_part)\n",
    "\n",
    "            return float(x_float)"
   ]
  },
  {
   "cell_type": "code",
   "execution_count": 192,
   "metadata": {},
   "outputs": [],
   "source": [
    "class Cromosoma:\n",
    "    def __init__(self,*genes):\n",
    "        \"\"\"\n",
    "        Parameters\n",
    "        ----------\n",
    "        genes : Gen\n",
    "            Gen(es) del cromosoma ordenado(s)\n",
    "        \"\"\"       \n",
    "        self.genes = genes\n",
    "        self.crom_len = sum([gen.len for gen in genes])\n",
    "\n",
    "    def representacion(self,x,mode='decode'):\n",
    "        '''\n",
    "        Traductor para codificar/decodificar (reales <-> binario) cromosomas a través de sus genes.\n",
    "\n",
    "        Parameters\n",
    "        ----------\n",
    "        x : list o str\n",
    "            Expresión del cromosoma (lista si los genes se expresan en números reales, str si el cromosoma es binario)\n",
    "        mode : str (code,decode)\n",
    "            Uno de dos modos: 'code' para pasar de número real a binario, y 'decode' para pasar de binario a real.\n",
    "\n",
    "        Returns\n",
    "        -------\n",
    "        str o list\n",
    "            Cromosoma traducido (elementos tipo str si \"genes\" era una lista, lista si \"genes\" era binario).\n",
    "        '''\n",
    "\n",
    "        if mode == 'code':\n",
    "            ## Real -> Binario\n",
    "            genes_bin = [gen.translate(val, mode=mode) for val,gen in zip(x,self.genes)]\n",
    "            self.cromosoma = ''.join(genes_bin)\n",
    "            return self.cromosoma\n",
    "        \n",
    "        elif mode == 'decode':\n",
    "            ## Binario -> Real\n",
    "            genes_lens = [gen.len for gen in self.genes]\n",
    "            ind_final = np.cumsum(genes_lens)\n",
    "            genes_r = [gen.translate(x[ind-lens:ind]) for gen, lens, ind in zip(self.genes, genes_lens, ind_final)]\n",
    "            return genes_r"
   ]
  },
  {
   "cell_type": "markdown",
   "metadata": {},
   "source": [
    "### Algoritmo"
   ]
  },
  {
   "cell_type": "code",
   "execution_count": 243,
   "metadata": {},
   "outputs": [],
   "source": [
    "class SimpleEvolutionary(Cromosoma):\n",
    "\n",
    "    def optimize(self,f,N):\n",
    "        self.f = f\n",
    "        self.N = N\n",
    "        self.poblacion = self.random_generator(self.N,self.crom_len)\n",
    "        return self.poblacion\n",
    "    \n",
    "\n",
    "    ##############################\n",
    "    #### GENERACIÓN ALEATORIA ####\n",
    "    def individuo(self,cromosoma):\n",
    "        return cromosoma, self.f(*self.representacion(cromosoma))\n",
    "    \n",
    "    def random_generator(self,N,size):\n",
    "        '''\n",
    "        Rutina de generación aleatoria de individuos\n",
    "\n",
    "        Parameters\n",
    "        ----------\n",
    "        N : int\n",
    "            Número de individuos en la población.\n",
    "        size : int\n",
    "            Longitud del cromosoma característico de los individuos en la población.\n",
    "\n",
    "        Returns\n",
    "        -------\n",
    "        array\n",
    "            Individuos generados como un array de cromosomas (col0) con su aptitud (col1) respectiva.\n",
    "        '''\n",
    "        # Creación de población de individuos\n",
    "        poblacion = np.random.binomial(n=1, p=0.5, size=(N,size)).astype(str)\n",
    "        poblacion = pd.DataFrame([self.individuo(''.join(cromosoma)) for cromosoma in poblacion],\n",
    "                                 columns = ['cromosoma','apt']) \n",
    "\n",
    "        return poblacion\n",
    "    \n",
    "\n",
    "    ###############################\n",
    "    #### SELECCIÓN: POR RULETA ####\n",
    "\n",
    "    def ruleta(self):\n",
    "        '''\n",
    "        Selección de candidatos a reproducción de la población actual.\n",
    "\n",
    "        Returns\n",
    "        -------\n",
    "        DataFrame\n",
    "            Individuos seleccionados para reproducirse con la misma dimensión que la población.\n",
    "        '''\n",
    "        # Cálculo de proporción de aptitud y límites de probabilidad acumulada\n",
    "        pi = self.poblacion['apt'] / self.poblacion['apt'].sum()\n",
    "        pop_lims =  pd.DataFrame({'liminf': (pi).cumsum() - pi,\n",
    "                                  'limsup': (pi).cumsum()})\n",
    "        \n",
    "        # Selección aleatoria de candidatos (lambda = |población|)\n",
    "        R = np.random.uniform(0,1,pop_lims.shape[0])\n",
    "        k_pop = pd.DataFrame(map(lambda x: self.poblacion[(pop_lims['liminf'] < x) & (x <= pop_lims['limsup'])].iloc[0], R))\n",
    "        \n",
    "        return k_pop\n",
    "    \n",
    "    ########################################\n",
    "    #### OPERADOR CRUZA: CRUZA UN PUNTO ####\n",
    "    def cruza(self,par1,par2,cr=0.8):\n",
    "        fail = np.random.uniform(0,1)\n",
    "\n",
    "        if fail < cr:\n",
    "            crossover_point = np.random.randint(0, len(par1)) \n",
    "            ch1 = par1[:crossover_point] + par2[crossover_point:]\n",
    "            ch2 = par2[:crossover_point] + par1[crossover_point:]\n",
    "        else:\n",
    "            ch1 = par1\n",
    "            ch2 = par2\n",
    "        return ch1, ch2\n",
    "\n",
    "    def mutacion(self,cromosoma,mr=None):\n",
    "        if not mr:\n",
    "            mr = 1 / len(cromosoma)\n",
    "        flip = np.random.binomial(1,mr,len(cromosoma))\n",
    "        mutated_cr = [str((int(d) + f) % 2) for d,f in zip(cromosoma,flip)]\n",
    "        mutated_cr = ''.join(mutated_cr)\n",
    "        return mutated_cr"
   ]
  },
  {
   "cell_type": "code",
   "execution_count": 242,
   "metadata": {},
   "outputs": [
    {
     "data": {
      "text/plain": [
       "1"
      ]
     },
     "execution_count": 242,
     "metadata": {},
     "output_type": "execute_result"
    }
   ],
   "source": [
    "(0+1)%2"
   ]
  },
  {
   "cell_type": "code",
   "execution_count": 223,
   "metadata": {},
   "outputs": [],
   "source": [
    "if not 1:\n",
    "    print(1)"
   ]
  },
  {
   "cell_type": "markdown",
   "metadata": {},
   "source": [
    "### Test"
   ]
  },
  {
   "cell_type": "code",
   "execution_count": 194,
   "metadata": {},
   "outputs": [],
   "source": [
    "# arbitrary number of genes\n",
    "Gen1 = Gen((-500,500),5)\n",
    "Gen2 = Gen((-500,500),3)\n",
    "CromA = Cromosoma(Gen1,Gen2)"
   ]
  },
  {
   "cell_type": "code",
   "execution_count": 244,
   "metadata": {},
   "outputs": [],
   "source": [
    "se = SimpleEvolutionary(Gen1,Gen2)"
   ]
  },
  {
   "cell_type": "code",
   "execution_count": 245,
   "metadata": {},
   "outputs": [
    {
     "data": {
      "text/html": [
       "<div>\n",
       "<style scoped>\n",
       "    .dataframe tbody tr th:only-of-type {\n",
       "        vertical-align: middle;\n",
       "    }\n",
       "\n",
       "    .dataframe tbody tr th {\n",
       "        vertical-align: top;\n",
       "    }\n",
       "\n",
       "    .dataframe thead th {\n",
       "        text-align: right;\n",
       "    }\n",
       "</style>\n",
       "<table border=\"1\" class=\"dataframe\">\n",
       "  <thead>\n",
       "    <tr style=\"text-align: right;\">\n",
       "      <th></th>\n",
       "      <th>cromosoma</th>\n",
       "      <th>apt</th>\n",
       "    </tr>\n",
       "  </thead>\n",
       "  <tbody>\n",
       "    <tr>\n",
       "      <th>0</th>\n",
       "      <td>11100011000100001111101111001011011000101100111</td>\n",
       "      <td>478.041287</td>\n",
       "    </tr>\n",
       "    <tr>\n",
       "      <th>1</th>\n",
       "      <td>01000000000101100010001001001100101110111100110</td>\n",
       "      <td>750.784913</td>\n",
       "    </tr>\n",
       "    <tr>\n",
       "      <th>2</th>\n",
       "      <td>00111100100001011010110000110011000111110101110</td>\n",
       "      <td>748.062972</td>\n",
       "    </tr>\n",
       "    <tr>\n",
       "      <th>3</th>\n",
       "      <td>10001000010001000111000110111010100000011100100</td>\n",
       "      <td>1075.005690</td>\n",
       "    </tr>\n",
       "    <tr>\n",
       "      <th>4</th>\n",
       "      <td>11101001100011100101010010000000000010010010000</td>\n",
       "      <td>259.799895</td>\n",
       "    </tr>\n",
       "    <tr>\n",
       "      <th>5</th>\n",
       "      <td>01001111101100011111001101111110010011111101010</td>\n",
       "      <td>677.791329</td>\n",
       "    </tr>\n",
       "    <tr>\n",
       "      <th>6</th>\n",
       "      <td>01100111000001000101110000111011010000100010111</td>\n",
       "      <td>827.649336</td>\n",
       "    </tr>\n",
       "    <tr>\n",
       "      <th>7</th>\n",
       "      <td>01100110010101010000111111000101000010101101111</td>\n",
       "      <td>666.544516</td>\n",
       "    </tr>\n",
       "    <tr>\n",
       "      <th>8</th>\n",
       "      <td>01111011101101000111101001010010101010010010110</td>\n",
       "      <td>799.221935</td>\n",
       "    </tr>\n",
       "    <tr>\n",
       "      <th>9</th>\n",
       "      <td>01101001010101010000111010011000000011011000101</td>\n",
       "      <td>878.286891</td>\n",
       "    </tr>\n",
       "  </tbody>\n",
       "</table>\n",
       "</div>"
      ],
      "text/plain": [
       "                                         cromosoma          apt\n",
       "0  11100011000100001111101111001011011000101100111   478.041287\n",
       "1  01000000000101100010001001001100101110111100110   750.784913\n",
       "2  00111100100001011010110000110011000111110101110   748.062972\n",
       "3  10001000010001000111000110111010100000011100100  1075.005690\n",
       "4  11101001100011100101010010000000000010010010000   259.799895\n",
       "5  01001111101100011111001101111110010011111101010   677.791329\n",
       "6  01100111000001000101110000111011010000100010111   827.649336\n",
       "7  01100110010101010000111111000101000010101101111   666.544516\n",
       "8  01111011101101000111101001010010101010010010110   799.221935\n",
       "9  01101001010101010000111010011000000011011000101   878.286891"
      ]
     },
     "execution_count": 245,
     "metadata": {},
     "output_type": "execute_result"
    }
   ],
   "source": [
    "se.optimize(f,10)"
   ]
  },
  {
   "cell_type": "code",
   "execution_count": 246,
   "metadata": {},
   "outputs": [
    {
     "data": {
      "text/html": [
       "<div>\n",
       "<style scoped>\n",
       "    .dataframe tbody tr th:only-of-type {\n",
       "        vertical-align: middle;\n",
       "    }\n",
       "\n",
       "    .dataframe tbody tr th {\n",
       "        vertical-align: top;\n",
       "    }\n",
       "\n",
       "    .dataframe thead th {\n",
       "        text-align: right;\n",
       "    }\n",
       "</style>\n",
       "<table border=\"1\" class=\"dataframe\">\n",
       "  <thead>\n",
       "    <tr style=\"text-align: right;\">\n",
       "      <th></th>\n",
       "      <th>cromosoma</th>\n",
       "      <th>apt</th>\n",
       "    </tr>\n",
       "  </thead>\n",
       "  <tbody>\n",
       "    <tr>\n",
       "      <th>0</th>\n",
       "      <td>11100011000100001111101111001011011000101100111</td>\n",
       "      <td>478.041287</td>\n",
       "    </tr>\n",
       "    <tr>\n",
       "      <th>2</th>\n",
       "      <td>00111100100001011010110000110011000111110101110</td>\n",
       "      <td>748.062972</td>\n",
       "    </tr>\n",
       "    <tr>\n",
       "      <th>2</th>\n",
       "      <td>00111100100001011010110000110011000111110101110</td>\n",
       "      <td>748.062972</td>\n",
       "    </tr>\n",
       "    <tr>\n",
       "      <th>8</th>\n",
       "      <td>01111011101101000111101001010010101010010010110</td>\n",
       "      <td>799.221935</td>\n",
       "    </tr>\n",
       "    <tr>\n",
       "      <th>1</th>\n",
       "      <td>01000000000101100010001001001100101110111100110</td>\n",
       "      <td>750.784913</td>\n",
       "    </tr>\n",
       "    <tr>\n",
       "      <th>3</th>\n",
       "      <td>10001000010001000111000110111010100000011100100</td>\n",
       "      <td>1075.005690</td>\n",
       "    </tr>\n",
       "    <tr>\n",
       "      <th>2</th>\n",
       "      <td>00111100100001011010110000110011000111110101110</td>\n",
       "      <td>748.062972</td>\n",
       "    </tr>\n",
       "    <tr>\n",
       "      <th>9</th>\n",
       "      <td>01101001010101010000111010011000000011011000101</td>\n",
       "      <td>878.286891</td>\n",
       "    </tr>\n",
       "    <tr>\n",
       "      <th>7</th>\n",
       "      <td>01100110010101010000111111000101000010101101111</td>\n",
       "      <td>666.544516</td>\n",
       "    </tr>\n",
       "    <tr>\n",
       "      <th>8</th>\n",
       "      <td>01111011101101000111101001010010101010010010110</td>\n",
       "      <td>799.221935</td>\n",
       "    </tr>\n",
       "  </tbody>\n",
       "</table>\n",
       "</div>"
      ],
      "text/plain": [
       "                                         cromosoma          apt\n",
       "0  11100011000100001111101111001011011000101100111   478.041287\n",
       "2  00111100100001011010110000110011000111110101110   748.062972\n",
       "2  00111100100001011010110000110011000111110101110   748.062972\n",
       "8  01111011101101000111101001010010101010010010110   799.221935\n",
       "1  01000000000101100010001001001100101110111100110   750.784913\n",
       "3  10001000010001000111000110111010100000011100100  1075.005690\n",
       "2  00111100100001011010110000110011000111110101110   748.062972\n",
       "9  01101001010101010000111010011000000011011000101   878.286891\n",
       "7  01100110010101010000111111000101000010101101111   666.544516\n",
       "8  01111011101101000111101001010010101010010010110   799.221935"
      ]
     },
     "execution_count": 246,
     "metadata": {},
     "output_type": "execute_result"
    }
   ],
   "source": [
    "pars = se.ruleta()\n",
    "pars"
   ]
  },
  {
   "cell_type": "code",
   "execution_count": 255,
   "metadata": {},
   "outputs": [
    {
     "data": {
      "text/plain": [
       "'11100100100001011010110000110011000111110101110'"
      ]
     },
     "execution_count": 255,
     "metadata": {},
     "output_type": "execute_result"
    }
   ],
   "source": [
    "ch1,ch2 = se.cruza(pars['cromosoma'].iloc[0],pars['cromosoma'].iloc[1])\n",
    "ch1"
   ]
  },
  {
   "cell_type": "code",
   "execution_count": 265,
   "metadata": {},
   "outputs": [
    {
     "data": {
      "text/plain": [
       "'11100100100001011010110000110011000111110111110'"
      ]
     },
     "execution_count": 265,
     "metadata": {},
     "output_type": "execute_result"
    }
   ],
   "source": [
    "se.mutacion(ch1)"
   ]
  },
  {
   "cell_type": "markdown",
   "metadata": {},
   "source": []
  },
  {
   "cell_type": "code",
   "execution_count": null,
   "metadata": {},
   "outputs": [],
   "source": []
  },
  {
   "cell_type": "code",
   "execution_count": 105,
   "metadata": {},
   "outputs": [
    {
     "data": {
      "text/plain": [
       "array(['10111010010010010000100011011001111111110111110',\n",
       "       '00101000001111111001101011000011110001100110110',\n",
       "       '01100011000000101110011011011110101100101110001',\n",
       "       '01010011010111000100000010000111010000101011110',\n",
       "       '11010001011011110001110111111000111000110011011',\n",
       "       '01010100000000110010100111111011100000100010110',\n",
       "       '00010111000110100110111001101000100110111111010',\n",
       "       '11011000100111100110100110110101101001100101111',\n",
       "       '00010011000001000001111001111001011000100100111',\n",
       "       '10100110000011111111110010001011001100011010010'], dtype='<U47')"
      ]
     },
     "execution_count": 105,
     "metadata": {},
     "output_type": "execute_result"
    }
   ],
   "source": [
    "N=10\n",
    "size=CromA.crom_len\n",
    "poblacion = np.random.binomial(n=1, p=0.5, size=(N,size)).astype(str)\n",
    "poblacion = np.array([''.join(individuo) for individuo in poblacion]) \n",
    "\n",
    "# Cálculo de aptitud\n",
    "apts = np.array([f(*CromA.representacion(individuo,mode='decode')) for individuo in poblacion])\n",
    "\n",
    "np.array(list(zip(poblacion, apts)))[:,0]"
   ]
  },
  {
   "cell_type": "code",
   "execution_count": 123,
   "metadata": {},
   "outputs": [
    {
     "data": {
      "text/plain": [
       "(array(['01110100100110000101100000101001011010100001001',\n",
       "        '10100010001011011001111111110010011101101010011',\n",
       "        '01101010001111000100001101000110000110111000000',\n",
       "        '00111000010011101111000100100101101100000011100',\n",
       "        '10100100001100111000000110101101000000111011110',\n",
       "        '10101101100010010000011010100001011001100001110',\n",
       "        '10010111011110110111011101011011000000101011101',\n",
       "        '11110001110100111000001001101100111011010100000',\n",
       "        '10001010001001110010010010101000010100010001111',\n",
       "        '11100101000110000100010101101000100001100001100'], dtype='<U47'),\n",
       " array([1056.30115125,  904.51695339,  560.21578389,  346.24981809,\n",
       "         904.66261779,  983.01487654,  953.61809909,  453.15982296,\n",
       "         888.11799139,  596.83460652]))"
      ]
     },
     "execution_count": 123,
     "metadata": {},
     "output_type": "execute_result"
    }
   ],
   "source": [
    "N=10\n",
    "size=CromA.crom_len\n",
    "poblacion = np.random.binomial(n=1, p=0.5, size=(N,size)).astype(str)\n",
    "poblacion = np.array([''.join(individuo) for individuo in poblacion]) \n",
    "\n",
    "# Cálculo de aptitud\n",
    "apts = np.array([f(*CromA.representacion(individuo,mode='decode')) for individuo in poblacion])\n",
    "\n",
    "poblacion, apts"
   ]
  },
  {
   "cell_type": "code",
   "execution_count": 141,
   "metadata": {},
   "outputs": [
    {
     "data": {
      "text/html": [
       "<div>\n",
       "<style scoped>\n",
       "    .dataframe tbody tr th:only-of-type {\n",
       "        vertical-align: middle;\n",
       "    }\n",
       "\n",
       "    .dataframe tbody tr th {\n",
       "        vertical-align: top;\n",
       "    }\n",
       "\n",
       "    .dataframe thead th {\n",
       "        text-align: right;\n",
       "    }\n",
       "</style>\n",
       "<table border=\"1\" class=\"dataframe\">\n",
       "  <thead>\n",
       "    <tr style=\"text-align: right;\">\n",
       "      <th></th>\n",
       "      <th>cromosoma</th>\n",
       "      <th>apt</th>\n",
       "    </tr>\n",
       "  </thead>\n",
       "  <tbody>\n",
       "    <tr>\n",
       "      <th>0</th>\n",
       "      <td>10001011010001100010000100111001010011001000011</td>\n",
       "      <td>1105.547877</td>\n",
       "    </tr>\n",
       "    <tr>\n",
       "      <th>1</th>\n",
       "      <td>10100110110011110110110110110101100110110111001</td>\n",
       "      <td>767.071722</td>\n",
       "    </tr>\n",
       "    <tr>\n",
       "      <th>2</th>\n",
       "      <td>11011000110100000111111000101111010011001001011</td>\n",
       "      <td>892.958987</td>\n",
       "    </tr>\n",
       "    <tr>\n",
       "      <th>3</th>\n",
       "      <td>01111100111011100101000111000101110010100001000</td>\n",
       "      <td>568.013314</td>\n",
       "    </tr>\n",
       "    <tr>\n",
       "      <th>4</th>\n",
       "      <td>10111100000000111111100000110111100011010010110</td>\n",
       "      <td>667.317125</td>\n",
       "    </tr>\n",
       "    <tr>\n",
       "      <th>5</th>\n",
       "      <td>00001111011011100001100000011000110101010011010</td>\n",
       "      <td>1430.265392</td>\n",
       "    </tr>\n",
       "    <tr>\n",
       "      <th>6</th>\n",
       "      <td>00100000000111011110101000110001100000011010100</td>\n",
       "      <td>992.977110</td>\n",
       "    </tr>\n",
       "    <tr>\n",
       "      <th>7</th>\n",
       "      <td>10100010100110101101111010000011010101000000111</td>\n",
       "      <td>1290.590836</td>\n",
       "    </tr>\n",
       "    <tr>\n",
       "      <th>8</th>\n",
       "      <td>11101011011010010011110111010010001001101110111</td>\n",
       "      <td>355.979157</td>\n",
       "    </tr>\n",
       "    <tr>\n",
       "      <th>9</th>\n",
       "      <td>01110011011001111000110011110101100010100011011</td>\n",
       "      <td>774.326757</td>\n",
       "    </tr>\n",
       "  </tbody>\n",
       "</table>\n",
       "</div>"
      ],
      "text/plain": [
       "                                         cromosoma          apt\n",
       "0  10001011010001100010000100111001010011001000011  1105.547877\n",
       "1  10100110110011110110110110110101100110110111001   767.071722\n",
       "2  11011000110100000111111000101111010011001001011   892.958987\n",
       "3  01111100111011100101000111000101110010100001000   568.013314\n",
       "4  10111100000000111111100000110111100011010010110   667.317125\n",
       "5  00001111011011100001100000011000110101010011010  1430.265392\n",
       "6  00100000000111011110101000110001100000011010100   992.977110\n",
       "7  10100010100110101101111010000011010101000000111  1290.590836\n",
       "8  11101011011010010011110111010010001001101110111   355.979157\n",
       "9  01110011011001111000110011110101100010100011011   774.326757"
      ]
     },
     "execution_count": 141,
     "metadata": {},
     "output_type": "execute_result"
    }
   ],
   "source": [
    "individuos = SimpleEvolutionary(Gen1,Gen2).optimize(f,10)\n",
    "individuos"
   ]
  },
  {
   "cell_type": "code",
   "execution_count": 162,
   "metadata": {},
   "outputs": [],
   "source": [
    "R = np.random.uniform(0,1,individuos['apt'].shape[0])"
   ]
  },
  {
   "cell_type": "code",
   "execution_count": 160,
   "metadata": {},
   "outputs": [
    {
     "data": {
      "text/html": [
       "<div>\n",
       "<style scoped>\n",
       "    .dataframe tbody tr th:only-of-type {\n",
       "        vertical-align: middle;\n",
       "    }\n",
       "\n",
       "    .dataframe tbody tr th {\n",
       "        vertical-align: top;\n",
       "    }\n",
       "\n",
       "    .dataframe thead th {\n",
       "        text-align: right;\n",
       "    }\n",
       "</style>\n",
       "<table border=\"1\" class=\"dataframe\">\n",
       "  <thead>\n",
       "    <tr style=\"text-align: right;\">\n",
       "      <th></th>\n",
       "      <th>cromosoma</th>\n",
       "      <th>apt</th>\n",
       "    </tr>\n",
       "  </thead>\n",
       "  <tbody>\n",
       "    <tr>\n",
       "      <th>3</th>\n",
       "      <td>01111100111011100101000111000101110010100001000</td>\n",
       "      <td>568.013314</td>\n",
       "    </tr>\n",
       "    <tr>\n",
       "      <th>4</th>\n",
       "      <td>10111100000000111111100000110111100011010010110</td>\n",
       "      <td>667.317125</td>\n",
       "    </tr>\n",
       "    <tr>\n",
       "      <th>8</th>\n",
       "      <td>11101011011010010011110111010010001001101110111</td>\n",
       "      <td>355.979157</td>\n",
       "    </tr>\n",
       "  </tbody>\n",
       "</table>\n",
       "</div>"
      ],
      "text/plain": [
       "                                         cromosoma         apt\n",
       "3  01111100111011100101000111000101110010100001000  568.013314\n",
       "4  10111100000000111111100000110111100011010010110  667.317125\n",
       "8  11101011011010010011110111010010001001101110111  355.979157"
      ]
     },
     "execution_count": 160,
     "metadata": {},
     "output_type": "execute_result"
    }
   ],
   "source": [
    "individuos[(300 < individuos['%']) & (individuos['%'] <= 700)]"
   ]
  },
  {
   "cell_type": "code",
   "execution_count": 163,
   "metadata": {},
   "outputs": [
    {
     "data": {
      "text/html": [
       "<div>\n",
       "<style scoped>\n",
       "    .dataframe tbody tr th:only-of-type {\n",
       "        vertical-align: middle;\n",
       "    }\n",
       "\n",
       "    .dataframe tbody tr th {\n",
       "        vertical-align: top;\n",
       "    }\n",
       "\n",
       "    .dataframe thead th {\n",
       "        text-align: right;\n",
       "    }\n",
       "</style>\n",
       "<table border=\"1\" class=\"dataframe\">\n",
       "  <thead>\n",
       "    <tr style=\"text-align: right;\">\n",
       "      <th></th>\n",
       "      <th>%</th>\n",
       "      <th>lf</th>\n",
       "      <th>ls</th>\n",
       "    </tr>\n",
       "  </thead>\n",
       "  <tbody>\n",
       "    <tr>\n",
       "      <th>0</th>\n",
       "      <td>0.124991</td>\n",
       "      <td>0.000000</td>\n",
       "      <td>0.124991</td>\n",
       "    </tr>\n",
       "    <tr>\n",
       "      <th>1</th>\n",
       "      <td>0.086723</td>\n",
       "      <td>0.124991</td>\n",
       "      <td>0.211714</td>\n",
       "    </tr>\n",
       "    <tr>\n",
       "      <th>2</th>\n",
       "      <td>0.100956</td>\n",
       "      <td>0.211714</td>\n",
       "      <td>0.312670</td>\n",
       "    </tr>\n",
       "    <tr>\n",
       "      <th>3</th>\n",
       "      <td>0.064218</td>\n",
       "      <td>0.312670</td>\n",
       "      <td>0.376888</td>\n",
       "    </tr>\n",
       "    <tr>\n",
       "      <th>4</th>\n",
       "      <td>0.075445</td>\n",
       "      <td>0.376888</td>\n",
       "      <td>0.452333</td>\n",
       "    </tr>\n",
       "    <tr>\n",
       "      <th>5</th>\n",
       "      <td>0.161702</td>\n",
       "      <td>0.452333</td>\n",
       "      <td>0.614036</td>\n",
       "    </tr>\n",
       "    <tr>\n",
       "      <th>6</th>\n",
       "      <td>0.112264</td>\n",
       "      <td>0.614036</td>\n",
       "      <td>0.726299</td>\n",
       "    </tr>\n",
       "    <tr>\n",
       "      <th>7</th>\n",
       "      <td>0.145911</td>\n",
       "      <td>0.726299</td>\n",
       "      <td>0.872210</td>\n",
       "    </tr>\n",
       "    <tr>\n",
       "      <th>8</th>\n",
       "      <td>0.040246</td>\n",
       "      <td>0.872210</td>\n",
       "      <td>0.912456</td>\n",
       "    </tr>\n",
       "    <tr>\n",
       "      <th>9</th>\n",
       "      <td>0.087544</td>\n",
       "      <td>0.912456</td>\n",
       "      <td>1.000000</td>\n",
       "    </tr>\n",
       "  </tbody>\n",
       "</table>\n",
       "</div>"
      ],
      "text/plain": [
       "          %        lf        ls\n",
       "0  0.124991  0.000000  0.124991\n",
       "1  0.086723  0.124991  0.211714\n",
       "2  0.100956  0.211714  0.312670\n",
       "3  0.064218  0.312670  0.376888\n",
       "4  0.075445  0.376888  0.452333\n",
       "5  0.161702  0.452333  0.614036\n",
       "6  0.112264  0.614036  0.726299\n",
       "7  0.145911  0.726299  0.872210\n",
       "8  0.040246  0.872210  0.912456\n",
       "9  0.087544  0.912456  1.000000"
      ]
     },
     "execution_count": 163,
     "metadata": {},
     "output_type": "execute_result"
    }
   ],
   "source": [
    "lims = pd.DataFrame({'%':(individuos['apt'] / individuos['apt'].sum()),\n",
    "              'lf': (individuos['apt'] / individuos['apt'].sum()).cumsum() - (individuos['apt'] / individuos['apt'].sum()),\n",
    "              'ls': (individuos['apt'] / individuos['apt'].sum()).cumsum()})\n",
    "lims"
   ]
  },
  {
   "cell_type": "code",
   "execution_count": 183,
   "metadata": {},
   "outputs": [
    {
     "data": {
      "text/html": [
       "<div>\n",
       "<style scoped>\n",
       "    .dataframe tbody tr th:only-of-type {\n",
       "        vertical-align: middle;\n",
       "    }\n",
       "\n",
       "    .dataframe tbody tr th {\n",
       "        vertical-align: top;\n",
       "    }\n",
       "\n",
       "    .dataframe thead th {\n",
       "        text-align: right;\n",
       "    }\n",
       "</style>\n",
       "<table border=\"1\" class=\"dataframe\">\n",
       "  <thead>\n",
       "    <tr style=\"text-align: right;\">\n",
       "      <th></th>\n",
       "      <th>cromosoma</th>\n",
       "      <th>apt</th>\n",
       "      <th>%</th>\n",
       "    </tr>\n",
       "  </thead>\n",
       "  <tbody>\n",
       "    <tr>\n",
       "      <th>4</th>\n",
       "      <td>10111100000000111111100000110111100011010010110</td>\n",
       "      <td>667.317125</td>\n",
       "      <td>0.075445</td>\n",
       "    </tr>\n",
       "    <tr>\n",
       "      <th>2</th>\n",
       "      <td>11011000110100000111111000101111010011001001011</td>\n",
       "      <td>892.958987</td>\n",
       "      <td>0.100956</td>\n",
       "    </tr>\n",
       "    <tr>\n",
       "      <th>2</th>\n",
       "      <td>11011000110100000111111000101111010011001001011</td>\n",
       "      <td>892.958987</td>\n",
       "      <td>0.100956</td>\n",
       "    </tr>\n",
       "    <tr>\n",
       "      <th>8</th>\n",
       "      <td>11101011011010010011110111010010001001101110111</td>\n",
       "      <td>355.979157</td>\n",
       "      <td>0.040246</td>\n",
       "    </tr>\n",
       "    <tr>\n",
       "      <th>7</th>\n",
       "      <td>10100010100110101101111010000011010101000000111</td>\n",
       "      <td>1290.590836</td>\n",
       "      <td>0.145911</td>\n",
       "    </tr>\n",
       "    <tr>\n",
       "      <th>0</th>\n",
       "      <td>10001011010001100010000100111001010011001000011</td>\n",
       "      <td>1105.547877</td>\n",
       "      <td>0.124991</td>\n",
       "    </tr>\n",
       "    <tr>\n",
       "      <th>2</th>\n",
       "      <td>11011000110100000111111000101111010011001001011</td>\n",
       "      <td>892.958987</td>\n",
       "      <td>0.100956</td>\n",
       "    </tr>\n",
       "    <tr>\n",
       "      <th>7</th>\n",
       "      <td>10100010100110101101111010000011010101000000111</td>\n",
       "      <td>1290.590836</td>\n",
       "      <td>0.145911</td>\n",
       "    </tr>\n",
       "    <tr>\n",
       "      <th>2</th>\n",
       "      <td>11011000110100000111111000101111010011001001011</td>\n",
       "      <td>892.958987</td>\n",
       "      <td>0.100956</td>\n",
       "    </tr>\n",
       "    <tr>\n",
       "      <th>1</th>\n",
       "      <td>10100110110011110110110110110101100110110111001</td>\n",
       "      <td>767.071722</td>\n",
       "      <td>0.086723</td>\n",
       "    </tr>\n",
       "  </tbody>\n",
       "</table>\n",
       "</div>"
      ],
      "text/plain": [
       "                                         cromosoma          apt         %\n",
       "4  10111100000000111111100000110111100011010010110   667.317125  0.075445\n",
       "2  11011000110100000111111000101111010011001001011   892.958987  0.100956\n",
       "2  11011000110100000111111000101111010011001001011   892.958987  0.100956\n",
       "8  11101011011010010011110111010010001001101110111   355.979157  0.040246\n",
       "7  10100010100110101101111010000011010101000000111  1290.590836  0.145911\n",
       "0  10001011010001100010000100111001010011001000011  1105.547877  0.124991\n",
       "2  11011000110100000111111000101111010011001001011   892.958987  0.100956\n",
       "7  10100010100110101101111010000011010101000000111  1290.590836  0.145911\n",
       "2  11011000110100000111111000101111010011001001011   892.958987  0.100956\n",
       "1  10100110110011110110110110110101100110110111001   767.071722  0.086723"
      ]
     },
     "execution_count": 183,
     "metadata": {},
     "output_type": "execute_result"
    }
   ],
   "source": [
    "pd.DataFrame(map(lambda x: individuos[(lims['lf'] < x) & (x <= lims['ls'])].iloc[0], R))"
   ]
  },
  {
   "cell_type": "code",
   "execution_count": 171,
   "metadata": {},
   "outputs": [
    {
     "data": {
      "text/html": [
       "<div>\n",
       "<style scoped>\n",
       "    .dataframe tbody tr th:only-of-type {\n",
       "        vertical-align: middle;\n",
       "    }\n",
       "\n",
       "    .dataframe tbody tr th {\n",
       "        vertical-align: top;\n",
       "    }\n",
       "\n",
       "    .dataframe thead th {\n",
       "        text-align: right;\n",
       "    }\n",
       "</style>\n",
       "<table border=\"1\" class=\"dataframe\">\n",
       "  <thead>\n",
       "    <tr style=\"text-align: right;\">\n",
       "      <th></th>\n",
       "      <th>cromosoma</th>\n",
       "      <th>apt</th>\n",
       "      <th>%</th>\n",
       "    </tr>\n",
       "  </thead>\n",
       "  <tbody>\n",
       "    <tr>\n",
       "      <th>2</th>\n",
       "      <td>11011000110100000111111000101111010011001001011</td>\n",
       "      <td>892.958987</td>\n",
       "      <td>0.100956</td>\n",
       "    </tr>\n",
       "  </tbody>\n",
       "</table>\n",
       "</div>"
      ],
      "text/plain": [
       "                                         cromosoma         apt         %\n",
       "2  11011000110100000111111000101111010011001001011  892.958987  0.100956"
      ]
     },
     "execution_count": 171,
     "metadata": {},
     "output_type": "execute_result"
    }
   ],
   "source": [
    "individuos[(lims['lf'] < 0.23970917) & (0.23970917 <= lims['ls'])]"
   ]
  },
  {
   "cell_type": "code",
   "execution_count": 19,
   "metadata": {},
   "outputs": [],
   "source": [
    "N = 30\n",
    "crom_len = CromA.len\n",
    "pp = np.random.binomial(n=1, p=0.5, size=(N,crom_len))\n",
    "\n",
    "pp = pp.astype(str)\n",
    "pp_bin = np.array([''.join(xi) for xi in pp])"
   ]
  },
  {
   "cell_type": "code",
   "execution_count": 20,
   "metadata": {},
   "outputs": [
    {
     "name": "stdout",
     "output_type": "stream",
     "text": [
      "i:  [-418.765, 239.40144] 00010100110010111101101111010100100101101001100\n",
      "j:  [-418.765, 239.40144] 00010100110010111101101111010100100101101001101\n",
      "#####################\n",
      "i:  [4.724, -249.64008] 10000001001101011001010000000001011110010110100\n",
      "j:  [4.724, -249.64008] 10000001001101011001010000000001011110010110011\n",
      "#####################\n",
      "i:  [-33.529, -250.79232] 01110111011010101010001111111100110000010011001\n",
      "j:  [-33.529, -250.79232] 01110111011010101010001111111100110000010011000\n",
      "#####################\n",
      "i:  [-456.008, -324.6111] 00001011010000110001001011001110011001001001100\n",
      "j:  [-456.008, -324.6111] 00001011010000110001001011001110011001001001011\n",
      "#####################\n",
      "i:  [-395.206, 270.26561] 00011010110100111100110001010011000000100000100\n",
      "j:  [-395.206, 270.26561] 00011010110100111100110001010011000000100000011\n",
      "#####################\n",
      "i:  [169.29, 141.10996] 10101011010101101001101001000001111111001000001\n",
      "j:  [169.29, 141.10996] 10101011010101101001101001000001111111001000010\n",
      "#####################\n",
      "i:  [341.711, -369.22052] 11010111011110100101001000010111101011000011100\n",
      "j:  [341.711, -369.22052] 11010111011110100101001000010111101011000011101\n",
      "#####################\n",
      "i:  [33.177, -250.26148] 10001000011111100100001111111110111011011101001\n",
      "j:  [33.177, -250.26148] 10001000011111100100001111111110111011011101000\n",
      "#####################\n",
      "i:  [-163.711, 213.25166] 01010110000101110000101101101001011110101001000\n",
      "j:  [-163.711, 213.25166] 01010110000101110000101101101001011110101001001\n",
      "#####################\n"
     ]
    }
   ],
   "source": [
    "_realrep = np.array([CromA.representacion(cr,mode='decode') for cr in pp_bin])\n",
    "__binrep = np.array([CromA.representacion(cr,mode='code') for cr in _realrep])\n",
    "\n",
    "for i,j in zip(pp_bin,__binrep):\n",
    "    if i!=j:\n",
    "        print('i: ', CromA.representacion(i,mode='decode'), i)\n",
    "        print('j: ', CromA.representacion(j,mode='decode'), j)\n",
    "        print('#####################')"
   ]
  },
  {
   "cell_type": "code",
   "execution_count": 21,
   "metadata": {},
   "outputs": [
    {
     "data": {
      "text/plain": [
       "array([[-418.765  ,  239.40144],\n",
       "       [   4.724  , -249.64008],\n",
       "       [ 322.98   ,  225.7134 ],\n",
       "       [ 413.189  ,  -83.59369],\n",
       "       [ -90.992  , -401.50003],\n",
       "       [ -33.529  , -250.79232],\n",
       "       [ 211.15   ,  369.5504 ],\n",
       "       [-418.128  ,  441.36653],\n",
       "       [ 465.819  ,  367.98943],\n",
       "       [-452.341  , -148.88363],\n",
       "       [ 416.194  ,  213.1971 ],\n",
       "       [-300.21   ,  -30.52776],\n",
       "       [-210.928  , -197.70191],\n",
       "       [-456.008  , -324.6111 ],\n",
       "       [-251.8    , -357.38771],\n",
       "       [ 107.522  , -172.14284],\n",
       "       [-425.829  ,  -43.60397],\n",
       "       [-395.206  ,  270.26561],\n",
       "       [ 169.29   ,  141.10996],\n",
       "       [-404.475  ,   77.68261],\n",
       "       [-168.25   ,  303.28398],\n",
       "       [  -5.466  , -481.4669 ],\n",
       "       [-149.489  ,  243.40278],\n",
       "       [-279.72   , -124.2217 ],\n",
       "       [ 341.711  , -369.22052],\n",
       "       [-382.11   , -399.54816],\n",
       "       [-225.209  ,  410.94005],\n",
       "       [  33.177  , -250.26148],\n",
       "       [-163.711  ,  213.25166],\n",
       "       [  86.27   ,  187.95249]])"
      ]
     },
     "execution_count": 21,
     "metadata": {},
     "output_type": "execute_result"
    }
   ],
   "source": [
    "_realrep\n",
    "   "
   ]
  }
 ],
 "metadata": {
  "kernelspec": {
   "display_name": "Python 3",
   "language": "python",
   "name": "python3"
  },
  "language_info": {
   "codemirror_mode": {
    "name": "ipython",
    "version": 3
   },
   "file_extension": ".py",
   "mimetype": "text/x-python",
   "name": "python",
   "nbconvert_exporter": "python",
   "pygments_lexer": "ipython3",
   "version": "3.11.5"
  }
 },
 "nbformat": 4,
 "nbformat_minor": 2
}
