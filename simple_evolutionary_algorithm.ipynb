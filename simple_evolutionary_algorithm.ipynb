{
 "cells": [
  {
   "cell_type": "code",
   "execution_count": 18,
   "metadata": {},
   "outputs": [],
   "source": [
    "import math\n",
    "import numpy as np\n",
    "import pandas as pd\n",
    "from decimal import Decimal\n",
    "import matplotlib.pyplot as plt"
   ]
  },
  {
   "cell_type": "code",
   "execution_count": 2,
   "metadata": {},
   "outputs": [],
   "source": [
    "def f(x,y):\n",
    "    return 418.9829*2 - x*np.sin(np.sqrt(abs(x))) - y*np.sin(np.sqrt(abs(y)))"
   ]
  },
  {
   "cell_type": "code",
   "execution_count": 50,
   "metadata": {},
   "outputs": [
    {
     "data": {
      "text/plain": [
       "2"
      ]
     },
     "execution_count": 50,
     "metadata": {},
     "output_type": "execute_result"
    }
   ],
   "source": [
    "f.__code__.co_argcount"
   ]
  },
  {
   "cell_type": "code",
   "execution_count": 56,
   "metadata": {},
   "outputs": [],
   "source": [
    "class SimpleEvolutionary:\n",
    "    # Constructor\n",
    "    def __init__(self,f,dominios,precisiones):\n",
    "        \"\"\"\n",
    "        Parameters\n",
    "        ----------\n",
    "        f : function\n",
    "            Función a optimizar por el algoritmo.\n",
    "        dominios : tuple, list\n",
    "            Iterable que contiene tuplas (liminf, limsup) de los dominios de las variables para la función \"f\".\n",
    "        precisiones : tuple, list\n",
    "            Iterable que contiene el número (int) de cifras decimales luego del punto para cada variable.\n",
    "        \"\"\"\n",
    "        self.f = f\n",
    "        self.dominios = dominios\n",
    "        self.precisiones = precisiones\n",
    "\n",
    "        # Lóngitudes de genes y cromosoma\n",
    "        self.gen_lens = [self.gen_length(dom,prc) for dom,prc in zip(dominios,precisiones)]\n",
    "        self.chrom_len = sum(self.gen_lens)\n",
    "    \n",
    "    ########################\n",
    "    #### REPRESENTACIÓN ####\n",
    "    def gen_length(self,dominio,precision):\n",
    "        \"\"\"Calcula el número de cifras binarias en un gen.\n",
    "\n",
    "        Parameters\n",
    "        ----------\n",
    "        dominio : tuple\n",
    "            Límites (liminf, limsup) de la variable en cuestión.\n",
    "        precision : int\n",
    "            Número de cifras decimales luego del punto para la variable en cuestión.\n",
    "\n",
    "        Returns\n",
    "        -------\n",
    "        int\n",
    "            Número de cifras binarias del gen <-> variable.\n",
    "        \"\"\"\n",
    "        # Limites\n",
    "        rango = dominio[1] - dominio[0]\n",
    "        cell_count = math.ceil(np.log2(rango))\n",
    "\n",
    "        # Decimales\n",
    "        cell_count += math.ceil(np.log2(10**precision - 1))\n",
    "        return cell_count\n",
    "    \n"
   ]
  },
  {
   "cell_type": "markdown",
   "metadata": {},
   "source": [
    "### Representación: Transformando reales\n",
    "\n"
   ]
  },
  {
   "cell_type": "code",
   "execution_count": 3,
   "metadata": {},
   "outputs": [],
   "source": [
    "def chrom_length2(liminf,limsup,precision):\n",
    "    '''\n",
    "    liminf: Dominio inf\n",
    "    limsup: Dominio sup\n",
    "    precision: Lugares decimales a conservar\n",
    "    '''\n",
    "    # Signo\n",
    "    cell_count = 0\n",
    "    if liminf<0 or limsup<0:\n",
    "        cell_count += 1\n",
    "    \n",
    "    # Entero\n",
    "    max_limits = max(abs(liminf), abs(limsup))\n",
    "    max_binary = np.binary_repr(int(max_limits))\n",
    "    cell_count += len(max_binary)\n",
    "\n",
    "    # Decimal\n",
    "    cell_count += precision\n",
    "\n",
    "    return cell_count"
   ]
  },
  {
   "cell_type": "code",
   "execution_count": null,
   "metadata": {},
   "outputs": [],
   "source": [
    "def chrom_structure(x,liminf):\n",
    "    '''\n",
    "    x: Elemento a traducir\n",
    "    liminf: Dominio inf\n",
    "    '''\n",
    "    ### Real -> Binario\n",
    "    x = Decimal(str(x))\n",
    "    liminf = Decimal(str(liminf))\n",
    "    # Signo -> trasladar a rango>=0\n",
    "    x += abs(liminf)\n",
    "    \n",
    "    # Eliminar punto\n",
    "    x_int = str(x).replace(\".\",\"\")\n",
    "\n",
    "    return cell_count"
   ]
  },
  {
   "cell_type": "code",
   "execution_count": null,
   "metadata": {},
   "outputs": [],
   "source": []
  },
  {
   "cell_type": "code",
   "execution_count": null,
   "metadata": {},
   "outputs": [],
   "source": [
    "rango = \n",
    "math.ceil(np.log2(rango))"
   ]
  },
  {
   "cell_type": "code",
   "execution_count": null,
   "metadata": {},
   "outputs": [],
   "source": [
    "def representacion(x,mode='code'):\n",
    "    '''\n",
    "    x: Elemento a traducir\n",
    "    mode: Uno de dos modos: 'code' para pasar de número real a binario, y 'decode' para pasar de binario a real.\n",
    "    '''\n",
    "    chromosome_length = 1\n",
    "    if mode == 'code':\n",
    "        np.binary_repr(x, width=chromosome_length)\n",
    "    else:\n",
    "        #"
   ]
  },
  {
   "cell_type": "markdown",
   "metadata": {},
   "source": [
    "### Población: Generación aleatoria"
   ]
  },
  {
   "cell_type": "code",
   "execution_count": 5,
   "metadata": {},
   "outputs": [],
   "source": [
    "def aptitud(binary):\n",
    "    '''\n",
    "    Traduce las entradas binarias a entradas reales para ser evaluadas en la función objetivo \"f\".\n",
    "    '''\n"
   ]
  },
  {
   "cell_type": "code",
   "execution_count": null,
   "metadata": {},
   "outputs": [],
   "source": []
  }
 ],
 "metadata": {
  "kernelspec": {
   "display_name": "Python 3",
   "language": "python",
   "name": "python3"
  },
  "language_info": {
   "codemirror_mode": {
    "name": "ipython",
    "version": 3
   },
   "file_extension": ".py",
   "mimetype": "text/x-python",
   "name": "python",
   "nbconvert_exporter": "python",
   "pygments_lexer": "ipython3",
   "version": "3.11.5"
  }
 },
 "nbformat": 4,
 "nbformat_minor": 2
}
