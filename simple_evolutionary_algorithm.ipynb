{
 "cells": [
  {
   "cell_type": "code",
   "execution_count": 11,
   "metadata": {},
   "outputs": [],
   "source": [
    "import math\n",
    "import numpy as np\n",
    "import pandas as pd\n",
    "from decimal import Decimal\n",
    "import matplotlib.pyplot as plt"
   ]
  },
  {
   "cell_type": "code",
   "execution_count": 132,
   "metadata": {},
   "outputs": [],
   "source": [
    "def f(x,y):\n",
    "    return 418.9829*2 - x*np.sin(np.sqrt(abs(x))) - y*np.sin(np.sqrt(abs(y)))"
   ]
  },
  {
   "cell_type": "code",
   "execution_count": 50,
   "metadata": {},
   "outputs": [
    {
     "data": {
      "text/plain": [
       "2"
      ]
     },
     "execution_count": 50,
     "metadata": {},
     "output_type": "execute_result"
    }
   ],
   "source": [
    "f.__code__.co_argcount"
   ]
  },
  {
   "cell_type": "markdown",
   "metadata": {},
   "source": [
    "### Estructura cromosómica"
   ]
  },
  {
   "cell_type": "code",
   "execution_count": 133,
   "metadata": {},
   "outputs": [],
   "source": [
    "class Gen:\n",
    "    def __init__(self,dominio,precision):\n",
    "        \"\"\"\n",
    "        Parameters\n",
    "        ----------\n",
    "        dominio : tuple\n",
    "            Límites (liminf, limsup) de la variable en cuestión.\n",
    "        precision : int\n",
    "            Número de cifras decimales luego del punto para la variable en cuestión.\n",
    "        \"\"\"       \n",
    "        self.dominio = dominio\n",
    "        self.precision = precision\n",
    "        self.len = self._length()\n",
    "\n",
    "        # Offset all(0) -> lb, all(1) -> ub\n",
    "        self.offinf = self.dominio[0]\n",
    "        self.offsup = self.translate('1'*self.len) - (self.dominio[1]-self.dominio[0]) ##### UC\n",
    "\n",
    "    def _length(self):\n",
    "        \"\"\"Calcula el número de bits en un gen.\n",
    "\n",
    "        Returns\n",
    "        -------\n",
    "        int\n",
    "            Número de bits del gen <-> variable.\n",
    "        \"\"\"\n",
    "        # Limites\n",
    "        rango = self.dominio[1] - self.dominio[0]\n",
    "        cell_count = math.ceil(np.log2(rango))\n",
    "\n",
    "        # Decimales\n",
    "        cell_count += math.ceil(np.log2(10**self.precision - 1))\n",
    "        return cell_count\n",
    "    \n",
    "    def translate(self,x,mode='decode'):\n",
    "        '''\n",
    "        Traductor para codificar/decodificar (reales <-> binario) genes. \n",
    "\n",
    "        Parameters\n",
    "        ----------\n",
    "        x : float or str\n",
    "            Gen a traducir (float si es un real, str si es binario).\n",
    "        mode : str (code,decode)\n",
    "            Uno de dos modos: 'code' para pasar de número real a binario, y 'decode' para pasar de binario a real.\n",
    "\n",
    "        Returns\n",
    "        -------\n",
    "        str or float\n",
    "            Gen traducido (str si x era un real, float si x era binario).\n",
    "        '''\n",
    "        offinf = Decimal(str(self.offinf))\n",
    "\n",
    "        if mode == 'code':\n",
    "            ## Real -> Binario\n",
    "            \n",
    "            # Cortar decimales por redondeo\n",
    "            x = float(x) # failsafe\n",
    "            x = round(x,self.precision)\n",
    "\n",
    "            # Offset - Signo -> rango>=0\n",
    "            x = Decimal(str(x))\n",
    "            x += abs(offinf) + abs() ##### UC\n",
    "            \n",
    "            # Eliminar punto\n",
    "            x_int,x_dec = str(x).split(\".\")\n",
    "            x_dec = x_dec.ljust(self.precision,\"0\") # fill precision\n",
    "\n",
    "            # Representación entera\n",
    "            x_r = int(x_int + x_dec)\n",
    "            return np.binary_repr(x_r, width=self.len)\n",
    "        \n",
    "        elif mode == 'decode':\n",
    "            ## Binario -> Real\n",
    "\n",
    "            # Convierte a entero base 10\n",
    "            x = str(int(x,2))\n",
    "\n",
    "            # Añadir el punto decimal\n",
    "            int_part = x[:-self.precision]\n",
    "            dec_part = x[-self.precision:]\n",
    "            x_float = Decimal(int_part + '.' + dec_part)\n",
    "\n",
    "            # Extraer offset\n",
    "            x_float -= abs(offinf)\n",
    "            return float(x_float)"
   ]
  },
  {
   "cell_type": "code",
   "execution_count": 137,
   "metadata": {},
   "outputs": [],
   "source": [
    "class Cromosoma:\n",
    "    def __init__(self,genes):\n",
    "        \"\"\"\n",
    "        Parameters\n",
    "        ----------\n",
    "        genes : lsit,tuple\n",
    "            Genes del cromosoma ordenados.\n",
    "        \"\"\"       \n",
    "        self.genes = genes\n",
    "        self.len = sum([gen.len for gen in genes])\n",
    "\n",
    "    def representacion(self,x,mode):\n",
    "        '''\n",
    "        Traductor para codificar/decodificar (reales <-> binario) cromosomas a través de sus genes.\n",
    "\n",
    "        Parameters\n",
    "        ----------\n",
    "        x : list o str\n",
    "            Expresión del cromosoma (lista si los genes se expresan en números reales, str si el cromosoma es binario)\n",
    "        mode : str (code,decode)\n",
    "            Uno de dos modos: 'code' para pasar de número real a binario, y 'decode' para pasar de binario a real.\n",
    "\n",
    "        Returns\n",
    "        -------\n",
    "        str o list\n",
    "            Cromosoma traducido (elementos tipo str si \"genes\" era una lista, lista si \"genes\" era binario).\n",
    "        '''\n",
    "        \n",
    "        # liminf = self.dominio[0]\n",
    "        # liminf = Decimal(str(liminf))\n",
    "\n",
    "        if mode == 'code':\n",
    "            ## Real -> Binario\n",
    "            genes_bin = [gen.translate(val, mode=mode) for val,gen in zip(x,self.genes)]\n",
    "            self.cromosoma = ''.join(genes_bin)\n",
    "            return self.cromosoma\n",
    "        \n",
    "        elif mode == 'decode':\n",
    "            ## Binario -> Real\n",
    "            genes_lens = [gen.len for gen in self.genes]\n",
    "            ind_final = np.cumsum(genes_lens)\n",
    "            genes_r = [gen.translate(x[ind-lens:ind]) for gen, lens, ind in zip(self.genes, genes_lens, ind_final)]\n",
    "            return genes_r"
   ]
  },
  {
   "cell_type": "markdown",
   "metadata": {},
   "source": [
    "### Generación aleatoria"
   ]
  },
  {
   "cell_type": "code",
   "execution_count": 143,
   "metadata": {},
   "outputs": [],
   "source": [
    "Gen1 = Gen((-500,500),3)\n",
    "Gen2 = Gen((-500,500),5)\n",
    "CromA = Cromosoma(genes=(Gen1,Gen2))"
   ]
  },
  {
   "cell_type": "code",
   "execution_count": 144,
   "metadata": {},
   "outputs": [
    {
     "data": {
      "text/plain": [
       "47"
      ]
     },
     "execution_count": 144,
     "metadata": {},
     "output_type": "execute_result"
    }
   ],
   "source": []
  },
  {
   "cell_type": "code",
   "execution_count": 153,
   "metadata": {},
   "outputs": [
    {
     "data": {
      "text/plain": [
       "array([['1', '0', '0', '0', '1', '0', '0', '0', '0', '0', '1', '1', '1',\n",
       "        '0', '0', '0', '0', '0', '1', '0', '1', '1', '0', '0', '0', '0',\n",
       "        '1', '0', '0', '0', '0', '0', '1', '1', '1', '1', '0', '0', '1',\n",
       "        '0', '1', '0', '1', '0', '1', '1', '1'],\n",
       "       ['1', '0', '0', '0', '1', '1', '0', '1', '1', '1', '0', '1', '1',\n",
       "        '0', '1', '0', '1', '1', '1', '0', '1', '1', '1', '1', '1', '1',\n",
       "        '0', '0', '0', '0', '0', '1', '0', '1', '1', '1', '1', '1', '1',\n",
       "        '0', '1', '1', '1', '1', '0', '1', '0'],\n",
       "       ['0', '1', '1', '0', '1', '1', '1', '0', '1', '0', '0', '1', '1',\n",
       "        '1', '1', '0', '0', '0', '0', '0', '0', '1', '1', '1', '1', '1',\n",
       "        '0', '1', '0', '1', '0', '0', '0', '0', '1', '0', '1', '1', '1',\n",
       "        '1', '1', '0', '0', '1', '0', '0', '0'],\n",
       "       ['1', '0', '0', '1', '1', '0', '0', '0', '1', '0', '1', '1', '1',\n",
       "        '1', '0', '1', '0', '1', '0', '1', '1', '1', '0', '1', '0', '1',\n",
       "        '1', '0', '0', '1', '1', '1', '0', '0', '0', '1', '1', '1', '1',\n",
       "        '1', '0', '0', '0', '0', '0', '0', '0'],\n",
       "       ['0', '0', '1', '1', '1', '0', '1', '1', '0', '0', '0', '1', '0',\n",
       "        '1', '1', '1', '1', '0', '0', '1', '0', '1', '0', '0', '1', '1',\n",
       "        '0', '1', '1', '1', '1', '1', '0', '1', '1', '0', '0', '1', '1',\n",
       "        '0', '0', '0', '1', '0', '1', '1', '1'],\n",
       "       ['0', '1', '0', '1', '0', '0', '0', '0', '1', '0', '1', '0', '1',\n",
       "        '1', '1', '1', '0', '0', '1', '1', '1', '0', '1', '0', '0', '0',\n",
       "        '1', '1', '1', '1', '1', '1', '0', '0', '1', '0', '1', '0', '0',\n",
       "        '1', '0', '1', '0', '1', '1', '1', '0'],\n",
       "       ['0', '0', '0', '0', '1', '0', '1', '0', '1', '1', '1', '0', '1',\n",
       "        '1', '1', '1', '1', '0', '1', '0', '1', '0', '1', '0', '0', '0',\n",
       "        '0', '1', '0', '0', '1', '1', '0', '0', '0', '0', '1', '0', '1',\n",
       "        '1', '0', '0', '1', '0', '0', '0', '0'],\n",
       "       ['0', '1', '0', '0', '0', '0', '0', '0', '0', '0', '0', '0', '0',\n",
       "        '1', '1', '1', '1', '1', '1', '0', '1', '0', '1', '0', '0', '1',\n",
       "        '0', '1', '0', '1', '1', '0', '1', '0', '1', '0', '1', '0', '1',\n",
       "        '0', '1', '1', '1', '0', '0', '1', '1'],\n",
       "       ['0', '1', '0', '0', '1', '1', '1', '1', '0', '0', '0', '1', '0',\n",
       "        '0', '1', '0', '0', '0', '1', '0', '1', '1', '1', '0', '1', '1',\n",
       "        '0', '0', '1', '0', '1', '1', '1', '1', '0', '1', '0', '1', '1',\n",
       "        '1', '1', '1', '1', '1', '1', '1', '0'],\n",
       "       ['1', '0', '1', '1', '1', '1', '1', '0', '0', '1', '0', '1', '1',\n",
       "        '0', '0', '0', '0', '0', '1', '0', '0', '1', '1', '0', '1', '0',\n",
       "        '1', '0', '1', '0', '1', '1', '1', '0', '1', '1', '0', '1', '1',\n",
       "        '0', '1', '1', '0', '0', '0', '1', '1']], dtype='<U11')"
      ]
     },
     "execution_count": 153,
     "metadata": {},
     "output_type": "execute_result"
    }
   ],
   "source": [
    "N = 10\n",
    "crom_len = CromA.len\n",
    "pp = np.random.binomial(n=1, p=0.5, size=(N,crom_len))\n",
    "\n",
    "pp = pp.astype(str)\n",
    "pp"
   ]
  },
  {
   "cell_type": "code",
   "execution_count": 170,
   "metadata": {},
   "outputs": [
    {
     "data": {
      "text/plain": [
       "array(['10001000001110000010110000100000111100101010111',\n",
       "       '10001101110110101110111111000001011111101111010',\n",
       "       '01101110100111100000011111010100001011111001000',\n",
       "       '10011000101111010101110101100111000111110000000',\n",
       "       '00111011000101111001010011011111011001100010111',\n",
       "       '01010000101011110011101000111111001010010101110',\n",
       "       '00001010111011111010101000010011000010110010000',\n",
       "       '01000000000001111110101001010110101010101110011',\n",
       "       '01001111000100100010111011001011110101111111110',\n",
       "       '10111110010110000010011010101011101101101100011'], dtype='<U47')"
      ]
     },
     "execution_count": 170,
     "metadata": {},
     "output_type": "execute_result"
    }
   ],
   "source": [
    "pp_bin = np.array([''.join(xi) for xi in pp])\n",
    "pp_bin"
   ]
  },
  {
   "cell_type": "code",
   "execution_count": 171,
   "metadata": {},
   "outputs": [
    {
     "data": {
      "text/plain": [
       "array([[  57.954  ,  517.42935],\n",
       "       [  81.038  ,  821.69594],\n",
       "       [ -46.912  ,  156.7316 ],\n",
       "       [ 125.621  ,  624.30976],\n",
       "       [-257.959  ,  -91.25225],\n",
       "       [-169.517  ,  359.55758],\n",
       "       [-455.206  ,  345.10096],\n",
       "       [-237.73   ,  367.26003],\n",
       "       [-176.126  ,  741.20062],\n",
       "       [ 279.65   ,   59.58371]])"
      ]
     },
     "execution_count": 171,
     "metadata": {},
     "output_type": "execute_result"
    }
   ],
   "source": [
    "np.array([CromA.representacion(cr,mode='decode') for cr in pp_bin])"
   ]
  },
  {
   "cell_type": "code",
   "execution_count": 172,
   "metadata": {},
   "outputs": [
    {
     "data": {
      "text/plain": [
       "[548.575, 842.17727]"
      ]
     },
     "execution_count": 172,
     "metadata": {},
     "output_type": "execute_result"
    }
   ],
   "source": [
    "CromA.representacion('1'*CromA.len,mode='decode')"
   ]
  },
  {
   "cell_type": "code",
   "execution_count": null,
   "metadata": {},
   "outputs": [],
   "source": []
  },
  {
   "cell_type": "code",
   "execution_count": null,
   "metadata": {},
   "outputs": [],
   "source": [
    "def random_generator(N,size):\n",
    "   '''\n",
    "   Rutina de generación aleatoria de individuos\n",
    "\n",
    "   Parameters\n",
    "   ----------\n",
    "   N : int\n",
    "      Número de individuos en la población.\n",
    "   size : int\n",
    "      Longitud del cromosoma característico de los individuos en la población.\n",
    "\n",
    "   Returns\n",
    "   -------\n",
    "   tuple (array,array)\n",
    "      Array de cromosomas generados y un array con la aptitud de cada individuo.\n",
    "   '''\n",
    "   poblacion = np.random.binomial(n=1, p=0.5, size=(N,size))\n",
    "   "
   ]
  },
  {
   "cell_type": "code",
   "execution_count": null,
   "metadata": {},
   "outputs": [],
   "source": []
  },
  {
   "cell_type": "code",
   "execution_count": null,
   "metadata": {},
   "outputs": [],
   "source": []
  },
  {
   "cell_type": "code",
   "execution_count": 56,
   "metadata": {},
   "outputs": [],
   "source": [
    "class SimpleEvolutionary:\n",
    "    # Constructor\n",
    "    def __init__(self,f,dominios,precisiones):\n",
    "        \"\"\"\n",
    "        Parameters\n",
    "        ----------\n",
    "        f : function\n",
    "            Función a optimizar por el algoritmo.\n",
    "        dominios : tuple, list\n",
    "            Iterable que contiene tuplas (liminf, limsup) de los dominios de las variables para la función \"f\".\n",
    "        precisiones : tuple, list\n",
    "            Iterable que contiene el número (int) de cifras decimales luego del punto para cada variable.\n",
    "        \"\"\"\n",
    "        self.f = f\n",
    "        self.dominios = dominios\n",
    "        self.precisiones = precisiones\n",
    "\n",
    "        # Lóngitudes de genes y cromosoma\n",
    "        self.gen_lens = [self.gen_length(dom,prc) for dom,prc in zip(dominios,precisiones)]\n",
    "        self.chrom_len = sum(self.gen_lens)\n",
    "    \n",
    "    ########################\n",
    "    #### REPRESENTACIÓN ####\n",
    "    def gen_length(self,dominio,precision):\n",
    "        \"\"\"Calcula el número de bits en un gen.\n",
    "\n",
    "        Parameters\n",
    "        ----------\n",
    "        dominio : tuple\n",
    "            Límites (liminf, limsup) de la variable en cuestión.\n",
    "        precision : int\n",
    "            Número de cifras decimales luego del punto para la variable en cuestión.\n",
    "\n",
    "        Returns\n",
    "        -------\n",
    "        int\n",
    "            Número de bits del gen <-> variable.\n",
    "        \"\"\"\n",
    "        # Limites\n",
    "        rango = dominio[1] - dominio[0]\n",
    "        cell_count = math.ceil(np.log2(rango))\n",
    "\n",
    "        # Decimales\n",
    "        cell_count += math.ceil(np.log2(10**precision - 1))\n",
    "        return cell_count\n",
    "    \n",
    "    def gen_translate(self,x,locus,mode='decode'):\n",
    "        '''\n",
    "        Traductor para codificar/decodificar (reales <-> binario) cromosomas. \n",
    "\n",
    "        Parameters\n",
    "        ----------\n",
    "        x : float or str\n",
    "            Gen a traducir (float si es un real, str si es binario).\n",
    "        locus : int\n",
    "            Número de gen en el cromosoma al que pertenece.\n",
    "        mode : str (code,decode)\n",
    "            Uno de dos modos: 'code' para pasar de número real a binario, y 'decode' para pasar de binario a real.\n",
    "\n",
    "        Returns\n",
    "        -------\n",
    "        str or float\n",
    "            Gen traducido (str si x era un real, float si x era binario).\n",
    "        '''\n",
    "\n",
    "        if mode == 'code':\n",
    "            ## Real -> Binario\n",
    "\n",
    "            x = Decimal(str(x))\n",
    "            liminf = self.dominios[locus][0]\n",
    "            liminf = Decimal(str(liminf))\n",
    "            # Signo -> trasladar a rango>=0\n",
    "            x += abs(liminf)\n",
    "            # Eliminar punto\n",
    "            x_int = str(x).replace(\".\",\"\")\n",
    "            return np.binary_repr(x_int, width=self.chrom_len)\n",
    "        \n",
    "        elif mode == 'decode':\n",
    "            ## Binario -> Real\n",
    "\n",
    "            # Convierte a entero base 10\n",
    "            x = str(int(x,2))\n",
    "            # Añadir el punto decimal\n",
    "            int_part = x[:-self.precision[locus]]\n",
    "            dec_part = x[self.precision[locus]:]\n",
    "            return float(int_part + '.' + dec_part)"
   ]
  },
  {
   "cell_type": "code",
   "execution_count": 102,
   "metadata": {},
   "outputs": [
    {
     "data": {
      "text/plain": [
       "'486.1345678'"
      ]
     },
     "execution_count": 102,
     "metadata": {},
     "output_type": "execute_result"
    }
   ],
   "source": [
    "x = 486.1345678\n",
    "str(Decimal(str(x)))"
   ]
  },
  {
   "cell_type": "code",
   "execution_count": 103,
   "metadata": {},
   "outputs": [
    {
     "name": "stdout",
     "output_type": "stream",
     "text": [
      "-486.1345678\n",
      "-500\n",
      "13.8654322\n",
      "138654322\n"
     ]
    },
    {
     "data": {
      "text/plain": [
       "'1000010000111011001001110010'"
      ]
     },
     "execution_count": 103,
     "metadata": {},
     "output_type": "execute_result"
    }
   ],
   "source": [
    "x = -486.1345678\n",
    "x = Decimal(str(x))\n",
    "print(x)\n",
    "liminf = -500\n",
    "liminf = Decimal(str(liminf))\n",
    "print(liminf)\n",
    "# Signo -> trasladar a rango>=0\n",
    "x += abs(liminf)\n",
    "print(x)\n",
    "# Eliminar punto\n",
    "x_int = int(str(x).replace(\".\",\"\"))\n",
    "print(x_int)\n",
    "np.binary_repr(x_int)"
   ]
  },
  {
   "cell_type": "code",
   "execution_count": 92,
   "metadata": {},
   "outputs": [
    {
     "data": {
      "text/plain": [
       "98613478"
      ]
     },
     "execution_count": 92,
     "metadata": {},
     "output_type": "execute_result"
    }
   ],
   "source": [
    "int(np.binary_repr(x_int),2)"
   ]
  },
  {
   "cell_type": "code",
   "execution_count": 87,
   "metadata": {},
   "outputs": [
    {
     "data": {
      "text/plain": [
       "'abcd'"
      ]
     },
     "execution_count": 87,
     "metadata": {},
     "output_type": "execute_result"
    }
   ],
   "source": [
    "\n",
    "presicion = 3\n",
    "\n",
    "x = str(int(x,2))\n",
    "\n",
    "\n",
    "# Añadir el punto decimal\n",
    "int_part = x[:-self.precision[locus]]\n",
    "dec_part = x[self.precision[locus]:]\n",
    "return float(int_part + '.' + dec_part)"
   ]
  },
  {
   "cell_type": "code",
   "execution_count": 70,
   "metadata": {},
   "outputs": [
    {
     "data": {
      "text/plain": [
       "'312.009'"
      ]
     },
     "execution_count": 70,
     "metadata": {},
     "output_type": "execute_result"
    }
   ],
   "source": [
    "\".\".join(('312','009'))"
   ]
  },
  {
   "cell_type": "code",
   "execution_count": 94,
   "metadata": {},
   "outputs": [
    {
     "name": "stdout",
     "output_type": "stream",
     "text": [
      "-421.849878\n",
      "-500\n",
      "78.150122\n",
      "78150122\n"
     ]
    }
   ],
   "source": [
    "## Real -> Binario\n",
    "x = -421.849878\n",
    "x = Decimal(str(x))\n",
    "print(x)\n",
    "liminf = -500\n",
    "liminf = Decimal(str(liminf))\n",
    "print(liminf)\n",
    "# Signo -> trasladar a rango>=0\n",
    "x += abs(liminf)\n",
    "print(x)\n",
    "# Eliminar punto\n",
    "x_int = str(x).replace(\".\",\"\")\n",
    "print(x_int)\n",
    "# np.binary_repr(x_int, width=)"
   ]
  },
  {
   "cell_type": "markdown",
   "metadata": {},
   "source": [
    "### Representación: Transformando reales\n",
    "\n"
   ]
  },
  {
   "cell_type": "markdown",
   "metadata": {},
   "source": [
    "### Población: Generación aleatoria"
   ]
  },
  {
   "cell_type": "code",
   "execution_count": 5,
   "metadata": {},
   "outputs": [],
   "source": [
    "def aptitud(binary):\n",
    "    '''\n",
    "    Traduce las entradas binarias a entradas reales para ser evaluadas en la función objetivo \"f\".\n",
    "    '''\n"
   ]
  },
  {
   "cell_type": "code",
   "execution_count": null,
   "metadata": {},
   "outputs": [],
   "source": []
  }
 ],
 "metadata": {
  "kernelspec": {
   "display_name": "Python 3",
   "language": "python",
   "name": "python3"
  },
  "language_info": {
   "codemirror_mode": {
    "name": "ipython",
    "version": 3
   },
   "file_extension": ".py",
   "mimetype": "text/x-python",
   "name": "python",
   "nbconvert_exporter": "python",
   "pygments_lexer": "ipython3",
   "version": "3.11.5"
  }
 },
 "nbformat": 4,
 "nbformat_minor": 2
}
