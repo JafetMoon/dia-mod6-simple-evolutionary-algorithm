{
 "cells": [
  {
   "cell_type": "code",
   "execution_count": 17,
   "metadata": {},
   "outputs": [],
   "source": [
    "import math\n",
    "import numpy as np\n",
    "import pandas as pd\n",
    "from decimal import Decimal\n",
    "import matplotlib.pyplot as plt"
   ]
  },
  {
   "cell_type": "code",
   "execution_count": 262,
   "metadata": {},
   "outputs": [],
   "source": [
    "def f(x,y):\n",
    "    return 418.9829*2 - x*np.sin(np.sqrt(abs(x))) - y*np.sin(np.sqrt(abs(y)))"
   ]
  },
  {
   "cell_type": "code",
   "execution_count": 50,
   "metadata": {},
   "outputs": [
    {
     "data": {
      "text/plain": [
       "2"
      ]
     },
     "execution_count": 50,
     "metadata": {},
     "output_type": "execute_result"
    }
   ],
   "source": [
    "f.__code__.co_argcount"
   ]
  },
  {
   "cell_type": "markdown",
   "metadata": {},
   "source": [
    "### Estructura cromosómica"
   ]
  },
  {
   "cell_type": "code",
   "execution_count": 15,
   "metadata": {},
   "outputs": [],
   "source": [
    "class Gen:\n",
    "    def __init__(self,dominio,precision):\n",
    "        \"\"\"\n",
    "        Parameters\n",
    "        ----------\n",
    "        dominio : tuple\n",
    "            Límites (liminf, limsup) de la variable en cuestión.\n",
    "        precision : int\n",
    "            Número de cifras decimales luego del punto para la variable en cuestión. Debe ser mayor al máximo número de decimales en el dominio\n",
    "        \"\"\"       \n",
    "        self.dominio = dominio\n",
    "        self.precision = precision\n",
    "        self.len = self._length()\n",
    "\n",
    "        # Offset lb -> all(0) ; ub -> all(1)\n",
    "        self.norm = (Decimal(str(dominio[1])) - Decimal(str(dominio[0]))) *10**precision / int('1'*self.len,2)\n",
    "        self.offset = Decimal(str(dominio[0])) * 10**precision\n",
    "\n",
    "    \n",
    "    def _length(self):\n",
    "        \"\"\"Calcula el número de bits en un gen.\n",
    "\n",
    "        Returns\n",
    "        -------\n",
    "        int\n",
    "            Número de bits del gen <-> variable.\n",
    "        \"\"\"\n",
    "        # Limites\n",
    "        rango = self.dominio[1] - self.dominio[0]\n",
    "        cell_count = math.ceil(np.log2(rango))\n",
    "\n",
    "        # Decimales\n",
    "        cell_count += math.ceil(np.log2(10**self.precision - 1))\n",
    "        return cell_count\n",
    "    \n",
    "    def translate(self,x,mode='decode'):\n",
    "        '''\n",
    "        Traductor para codificar/decodificar (reales <-> binario) genes. \n",
    "\n",
    "        Parameters\n",
    "        ----------\n",
    "        x : float or str\n",
    "            Gen a traducir (float si es un real, str si es binario).\n",
    "        mode : str (code,decode)\n",
    "            Uno de dos modos: 'code' para pasar de número real a binario, y 'decode' para pasar de binario a real.\n",
    "\n",
    "        Returns\n",
    "        -------\n",
    "        str or float\n",
    "            Gen traducido (str si x era un real, float si x era binario).\n",
    "        '''\n",
    "        \n",
    "        if mode == 'code':\n",
    "            ## Real -> Binario\n",
    "            \n",
    "            # Cortar decimales por redondeo\n",
    "            x = float(x) # failsafe\n",
    "            x = round(x,self.precision)\n",
    "\n",
    "            # Eliminar punto\n",
    "            x_int,x_dec = str(x).split(\".\")\n",
    "            x_dec = x_dec.ljust(self.precision,\"0\") # fill precision\n",
    "\n",
    "            # Representación entera\n",
    "            x_rep = int(x_int + x_dec)\n",
    "\n",
    "            # Offset -> ran >= 0\n",
    "            x_rep = (Decimal(str(x_rep)) - self.offset) / self.norm\n",
    "            x_rep = round(x_rep) # Nuevos decimales son de orden mayor a la precision\n",
    "            return np.binary_repr(x_rep, width=self.len)\n",
    "        \n",
    "        elif mode == 'decode':\n",
    "            ## Binario -> Real\n",
    "\n",
    "            # Convierte a entero base 10\n",
    "            x = int(x,2)\n",
    "\n",
    "            # Extraer Offset y Normalizar\n",
    "            x = x * self.norm + self.offset\n",
    "            x = str(round(x)) # Nuevos decimales son de orden mayor a la precision\n",
    "\n",
    "            # Añadir el punto decimal\n",
    "            int_part = x[:-self.precision]\n",
    "            dec_part = x[-self.precision:]\n",
    "            x_float = Decimal(int_part + '.' + dec_part)\n",
    "\n",
    "            return float(x_float)"
   ]
  },
  {
   "cell_type": "code",
   "execution_count": 13,
   "metadata": {},
   "outputs": [],
   "source": [
    "class Cromosoma:\n",
    "    def __init__(self,*genes):\n",
    "        \"\"\"\n",
    "        Parameters\n",
    "        ----------\n",
    "        genes : Gen\n",
    "            Gen(es) del cromosoma ordenado(s)\n",
    "        \"\"\"       \n",
    "        self.genes = genes\n",
    "        self.len = sum([gen.len for gen in genes])\n",
    "\n",
    "    def representacion(self,x,mode):\n",
    "        '''\n",
    "        Traductor para codificar/decodificar (reales <-> binario) cromosomas a través de sus genes.\n",
    "\n",
    "        Parameters\n",
    "        ----------\n",
    "        x : list o str\n",
    "            Expresión del cromosoma (lista si los genes se expresan en números reales, str si el cromosoma es binario)\n",
    "        mode : str (code,decode)\n",
    "            Uno de dos modos: 'code' para pasar de número real a binario, y 'decode' para pasar de binario a real.\n",
    "\n",
    "        Returns\n",
    "        -------\n",
    "        str o list\n",
    "            Cromosoma traducido (elementos tipo str si \"genes\" era una lista, lista si \"genes\" era binario).\n",
    "        '''\n",
    "        \n",
    "        # liminf = self.dominio[0]\n",
    "        # liminf = Decimal(str(liminf))\n",
    "\n",
    "        if mode == 'code':\n",
    "            ## Real -> Binario\n",
    "            genes_bin = [gen.translate(val, mode=mode) for val,gen in zip(x,self.genes)]\n",
    "            self.cromosoma = ''.join(genes_bin)\n",
    "            return self.cromosoma\n",
    "        \n",
    "        elif mode == 'decode':\n",
    "            ## Binario -> Real\n",
    "            genes_lens = [gen.len for gen in self.genes]\n",
    "            ind_final = np.cumsum(genes_lens)\n",
    "            genes_r = [gen.translate(x[ind-lens:ind]) for gen, lens, ind in zip(self.genes, genes_lens, ind_final)]\n",
    "            return genes_r"
   ]
  },
  {
   "cell_type": "markdown",
   "metadata": {},
   "source": [
    "### Generación aleatoria"
   ]
  },
  {
   "cell_type": "code",
   "execution_count": 12,
   "metadata": {},
   "outputs": [
    {
     "name": "stdout",
     "output_type": "stream",
     "text": [
      "(1, 2, 3, 4)\n"
     ]
    }
   ],
   "source": [
    "def foo(*kwargs):\n",
    "    print(kwargs)\n",
    "    # print(list(kwargs.values()))\n",
    "\n",
    "foo(1,2,3,4)\n",
    "# foo(x=1,y=2)\n"
   ]
  },
  {
   "cell_type": "code",
   "execution_count": 210,
   "metadata": {},
   "outputs": [
    {
     "data": {
      "text/plain": [
       "Decimal('1.4329')"
      ]
     },
     "execution_count": 210,
     "metadata": {},
     "output_type": "execute_result"
    }
   ],
   "source": [
    "liminf = -21.4574\n",
    "reaal = -20.0245\n",
    "Decimal(str(reaal)) + Decimal(str(abs(liminf)))"
   ]
  },
  {
   "cell_type": "code",
   "execution_count": 162,
   "metadata": {},
   "outputs": [
    {
     "data": {
      "text/plain": [
       "14329.0"
      ]
     },
     "execution_count": 162,
     "metadata": {},
     "output_type": "execute_result"
    }
   ],
   "source": [
    "liminf = -21.4574*10**4\n",
    "reaal = -20.0245 *10**4\n",
    "reaal + abs(liminf)"
   ]
  },
  {
   "cell_type": "code",
   "execution_count": 18,
   "metadata": {},
   "outputs": [],
   "source": [
    "# arbitrary number of genes\n",
    "Gen1 = Gen((-500,500),3)\n",
    "Gen2 = Gen((-500,500),5)\n",
    "CromA = Cromosoma(Gen1,Gen2)"
   ]
  },
  {
   "cell_type": "code",
   "execution_count": 231,
   "metadata": {},
   "outputs": [],
   "source": [
    "Gen1 = Gen((-500,500),3)\n",
    "Gen2 = Gen((-500,500),5)\n",
    "CromA = Cromosoma(genes=(Gen1,Gen2))"
   ]
  },
  {
   "cell_type": "code",
   "execution_count": 19,
   "metadata": {},
   "outputs": [],
   "source": [
    "N = 30\n",
    "crom_len = CromA.len\n",
    "pp = np.random.binomial(n=1, p=0.5, size=(N,crom_len))\n",
    "\n",
    "pp = pp.astype(str)\n",
    "pp_bin = np.array([''.join(xi) for xi in pp])"
   ]
  },
  {
   "cell_type": "code",
   "execution_count": 20,
   "metadata": {},
   "outputs": [
    {
     "name": "stdout",
     "output_type": "stream",
     "text": [
      "i:  [-418.765, 239.40144] 00010100110010111101101111010100100101101001100\n",
      "j:  [-418.765, 239.40144] 00010100110010111101101111010100100101101001101\n",
      "#####################\n",
      "i:  [4.724, -249.64008] 10000001001101011001010000000001011110010110100\n",
      "j:  [4.724, -249.64008] 10000001001101011001010000000001011110010110011\n",
      "#####################\n",
      "i:  [-33.529, -250.79232] 01110111011010101010001111111100110000010011001\n",
      "j:  [-33.529, -250.79232] 01110111011010101010001111111100110000010011000\n",
      "#####################\n",
      "i:  [-456.008, -324.6111] 00001011010000110001001011001110011001001001100\n",
      "j:  [-456.008, -324.6111] 00001011010000110001001011001110011001001001011\n",
      "#####################\n",
      "i:  [-395.206, 270.26561] 00011010110100111100110001010011000000100000100\n",
      "j:  [-395.206, 270.26561] 00011010110100111100110001010011000000100000011\n",
      "#####################\n",
      "i:  [169.29, 141.10996] 10101011010101101001101001000001111111001000001\n",
      "j:  [169.29, 141.10996] 10101011010101101001101001000001111111001000010\n",
      "#####################\n",
      "i:  [341.711, -369.22052] 11010111011110100101001000010111101011000011100\n",
      "j:  [341.711, -369.22052] 11010111011110100101001000010111101011000011101\n",
      "#####################\n",
      "i:  [33.177, -250.26148] 10001000011111100100001111111110111011011101001\n",
      "j:  [33.177, -250.26148] 10001000011111100100001111111110111011011101000\n",
      "#####################\n",
      "i:  [-163.711, 213.25166] 01010110000101110000101101101001011110101001000\n",
      "j:  [-163.711, 213.25166] 01010110000101110000101101101001011110101001001\n",
      "#####################\n"
     ]
    }
   ],
   "source": [
    "_realrep = np.array([CromA.representacion(cr,mode='decode') for cr in pp_bin])\n",
    "__binrep = np.array([CromA.representacion(cr,mode='code') for cr in _realrep])\n",
    "\n",
    "for i,j in zip(pp_bin,__binrep):\n",
    "    if i!=j:\n",
    "        print('i: ', CromA.representacion(i,mode='decode'), i)\n",
    "        print('j: ', CromA.representacion(j,mode='decode'), j)\n",
    "        print('#####################')"
   ]
  },
  {
   "cell_type": "code",
   "execution_count": 21,
   "metadata": {},
   "outputs": [
    {
     "data": {
      "text/plain": [
       "array([[-418.765  ,  239.40144],\n",
       "       [   4.724  , -249.64008],\n",
       "       [ 322.98   ,  225.7134 ],\n",
       "       [ 413.189  ,  -83.59369],\n",
       "       [ -90.992  , -401.50003],\n",
       "       [ -33.529  , -250.79232],\n",
       "       [ 211.15   ,  369.5504 ],\n",
       "       [-418.128  ,  441.36653],\n",
       "       [ 465.819  ,  367.98943],\n",
       "       [-452.341  , -148.88363],\n",
       "       [ 416.194  ,  213.1971 ],\n",
       "       [-300.21   ,  -30.52776],\n",
       "       [-210.928  , -197.70191],\n",
       "       [-456.008  , -324.6111 ],\n",
       "       [-251.8    , -357.38771],\n",
       "       [ 107.522  , -172.14284],\n",
       "       [-425.829  ,  -43.60397],\n",
       "       [-395.206  ,  270.26561],\n",
       "       [ 169.29   ,  141.10996],\n",
       "       [-404.475  ,   77.68261],\n",
       "       [-168.25   ,  303.28398],\n",
       "       [  -5.466  , -481.4669 ],\n",
       "       [-149.489  ,  243.40278],\n",
       "       [-279.72   , -124.2217 ],\n",
       "       [ 341.711  , -369.22052],\n",
       "       [-382.11   , -399.54816],\n",
       "       [-225.209  ,  410.94005],\n",
       "       [  33.177  , -250.26148],\n",
       "       [-163.711  ,  213.25166],\n",
       "       [  86.27   ,  187.95249]])"
      ]
     },
     "execution_count": 21,
     "metadata": {},
     "output_type": "execute_result"
    }
   ],
   "source": [
    "_realrep\n",
    "   "
   ]
  },
  {
   "cell_type": "code",
   "execution_count": null,
   "metadata": {},
   "outputs": [],
   "source": []
  },
  {
   "cell_type": "code",
   "execution_count": 56,
   "metadata": {},
   "outputs": [],
   "source": [
    "class SimpleEvolutionary:\n",
    "    # Constructor\n",
    "    def __init__(self,f,dominios,precisiones):\n",
    "        \"\"\"\n",
    "        Parameters\n",
    "        ----------\n",
    "        f : function\n",
    "            Función a optimizar por el algoritmo.\n",
    "        dominios : tuple, list\n",
    "            Iterable que contiene tuplas (liminf, limsup) de los dominios de las variables para la función \"f\".\n",
    "        precisiones : tuple, list\n",
    "            Iterable que contiene el número (int) de cifras decimales luego del punto para cada variable.\n",
    "        \"\"\"\n",
    "        self.f = f\n",
    "        self.dominios = dominios\n",
    "        self.precisiones = precisiones\n",
    "\n",
    "        # Lóngitudes de genes y cromosoma\n",
    "        self.gen_lens = [self.gen_length(dom,prc) for dom,prc in zip(dominios,precisiones)]\n",
    "        self.chrom_len = sum(self.gen_lens)\n",
    "        \n",
    "    def random_generator(N,size):\n",
    "        '''\n",
    "        Rutina de generación aleatoria de individuos\n",
    "\n",
    "        Parameters\n",
    "        ----------\n",
    "        N : int\n",
    "            Número de individuos en la población.\n",
    "        size : int\n",
    "            Longitud del cromosoma característico de los individuos en la población.\n",
    "\n",
    "        Returns\n",
    "        -------\n",
    "        tuple (array,array)\n",
    "            Array de cromosomas generados y un array con la aptitud de cada individuo.\n",
    "        '''\n",
    "        # Creación de población\n",
    "        poblacion = np.random.binomial(n=1, p=0.5, size=(N,size)).astype(str)\n",
    "        poblacion = np.array([''.join(individuo) for individuo in poblacion]) \n",
    "\n",
    "        # Cálculo de aptitud\n",
    "        apts = np.array([f(*CromA.representacion(individuo,mode='decode')) for individuo in poblacion])\n",
    "\n",
    "        return poblacion, apts\n",
    "    \n",
    "    ########################\n",
    "    #### REPRESENTACIÓN ####\n"
   ]
  },
  {
   "cell_type": "code",
   "execution_count": 102,
   "metadata": {},
   "outputs": [
    {
     "data": {
      "text/plain": [
       "'486.1345678'"
      ]
     },
     "execution_count": 102,
     "metadata": {},
     "output_type": "execute_result"
    }
   ],
   "source": [
    "x = 486.1345678\n",
    "str(Decimal(str(x)))"
   ]
  },
  {
   "cell_type": "code",
   "execution_count": 103,
   "metadata": {},
   "outputs": [
    {
     "name": "stdout",
     "output_type": "stream",
     "text": [
      "-486.1345678\n",
      "-500\n",
      "13.8654322\n",
      "138654322\n"
     ]
    },
    {
     "data": {
      "text/plain": [
       "'1000010000111011001001110010'"
      ]
     },
     "execution_count": 103,
     "metadata": {},
     "output_type": "execute_result"
    }
   ],
   "source": [
    "x = -486.1345678\n",
    "x = Decimal(str(x))\n",
    "print(x)\n",
    "liminf = -500\n",
    "liminf = Decimal(str(liminf))\n",
    "print(liminf)\n",
    "# Signo -> trasladar a rango>=0\n",
    "x += abs(liminf)\n",
    "print(x)\n",
    "# Eliminar punto\n",
    "x_int = int(str(x).replace(\".\",\"\"))\n",
    "print(x_int)\n",
    "np.binary_repr(x_int)"
   ]
  },
  {
   "cell_type": "code",
   "execution_count": 92,
   "metadata": {},
   "outputs": [
    {
     "data": {
      "text/plain": [
       "98613478"
      ]
     },
     "execution_count": 92,
     "metadata": {},
     "output_type": "execute_result"
    }
   ],
   "source": [
    "int(np.binary_repr(x_int),2)"
   ]
  },
  {
   "cell_type": "code",
   "execution_count": 87,
   "metadata": {},
   "outputs": [
    {
     "data": {
      "text/plain": [
       "'abcd'"
      ]
     },
     "execution_count": 87,
     "metadata": {},
     "output_type": "execute_result"
    }
   ],
   "source": [
    "\n",
    "presicion = 3\n",
    "\n",
    "x = str(int(x,2))\n",
    "\n",
    "\n",
    "# Añadir el punto decimal\n",
    "int_part = x[:-self.precision[locus]]\n",
    "dec_part = x[self.precision[locus]:]\n",
    "return float(int_part + '.' + dec_part)"
   ]
  },
  {
   "cell_type": "code",
   "execution_count": 70,
   "metadata": {},
   "outputs": [
    {
     "data": {
      "text/plain": [
       "'312.009'"
      ]
     },
     "execution_count": 70,
     "metadata": {},
     "output_type": "execute_result"
    }
   ],
   "source": [
    "\".\".join(('312','009'))"
   ]
  },
  {
   "cell_type": "code",
   "execution_count": 94,
   "metadata": {},
   "outputs": [
    {
     "name": "stdout",
     "output_type": "stream",
     "text": [
      "-421.849878\n",
      "-500\n",
      "78.150122\n",
      "78150122\n"
     ]
    }
   ],
   "source": [
    "## Real -> Binario\n",
    "x = -421.849878\n",
    "x = Decimal(str(x))\n",
    "print(x)\n",
    "liminf = -500\n",
    "liminf = Decimal(str(liminf))\n",
    "print(liminf)\n",
    "# Signo -> trasladar a rango>=0\n",
    "x += abs(liminf)\n",
    "print(x)\n",
    "# Eliminar punto\n",
    "x_int = str(x).replace(\".\",\"\")\n",
    "print(x_int)\n",
    "# np.binary_repr(x_int, width=)"
   ]
  },
  {
   "cell_type": "markdown",
   "metadata": {},
   "source": [
    "### Representación: Transformando reales\n",
    "\n"
   ]
  },
  {
   "cell_type": "markdown",
   "metadata": {},
   "source": [
    "### Población: Generación aleatoria"
   ]
  },
  {
   "cell_type": "code",
   "execution_count": 5,
   "metadata": {},
   "outputs": [],
   "source": [
    "def aptitud(binary):\n",
    "    '''\n",
    "    Traduce las entradas binarias a entradas reales para ser evaluadas en la función objetivo \"f\".\n",
    "    '''\n"
   ]
  },
  {
   "cell_type": "code",
   "execution_count": null,
   "metadata": {},
   "outputs": [],
   "source": []
  }
 ],
 "metadata": {
  "kernelspec": {
   "display_name": "Python 3",
   "language": "python",
   "name": "python3"
  },
  "language_info": {
   "codemirror_mode": {
    "name": "ipython",
    "version": 3
   },
   "file_extension": ".py",
   "mimetype": "text/x-python",
   "name": "python",
   "nbconvert_exporter": "python",
   "pygments_lexer": "ipython3",
   "version": "3.11.5"
  }
 },
 "nbformat": 4,
 "nbformat_minor": 2
}
